{
 "cells": [
  {
   "cell_type": "code",
   "execution_count": 4,
   "id": "5d00e182",
   "metadata": {},
   "outputs": [
    {
     "ename": "ModuleNotFoundError",
     "evalue": "No module named 'googlemaps'",
     "output_type": "error",
     "traceback": [
      "\u001b[0;31m---------------------------------------------------------------------------\u001b[0m",
      "\u001b[0;31mModuleNotFoundError\u001b[0m                       Traceback (most recent call last)",
      "Input \u001b[0;32mIn [4]\u001b[0m, in \u001b[0;36m<cell line: 7>\u001b[0;34m()\u001b[0m\n\u001b[1;32m      5\u001b[0m \u001b[38;5;28;01mfrom\u001b[39;00m \u001b[38;5;21;01mdatetime\u001b[39;00m \u001b[38;5;28;01mimport\u001b[39;00m datetime, date\n\u001b[1;32m      6\u001b[0m \u001b[38;5;28;01mimport\u001b[39;00m \u001b[38;5;21;01mnumpy\u001b[39;00m \u001b[38;5;28;01mas\u001b[39;00m \u001b[38;5;21;01mnp\u001b[39;00m\n\u001b[0;32m----> 7\u001b[0m \u001b[38;5;28;01mfrom\u001b[39;00m \u001b[38;5;21;01mgooglemaps\u001b[39;00m \u001b[38;5;28;01mimport\u001b[39;00m Client \u001b[38;5;28;01mas\u001b[39;00m GoogleMaps\n\u001b[1;32m      8\u001b[0m \u001b[38;5;28;01mimport\u001b[39;00m \u001b[38;5;21;01mfolium\u001b[39;00m\n\u001b[1;32m      9\u001b[0m \u001b[38;5;28;01mfrom\u001b[39;00m \u001b[38;5;21;01mfolium\u001b[39;00m \u001b[38;5;28;01mimport\u001b[39;00m Choropleth, Circle, Marker\n",
      "\u001b[0;31mModuleNotFoundError\u001b[0m: No module named 'googlemaps'"
     ]
    }
   ],
   "source": [
    "import pandas as pd\n",
    "import warnings\n",
    "import seaborn as sns\n",
    "import matplotlib.pyplot as plt\n",
    "from datetime import datetime, date\n",
    "import numpy as np\n",
    "from googlemaps import Client as GoogleMaps\n",
    "import folium\n",
    "from folium import Choropleth, Circle, Marker\n",
    "from folium.plugins import MarkerCluster\n",
    "from geopy.geocoders import Nominatim\n",
    "from sklearn.model_selection import train_test_split\n",
    "from sklearn.preprocessing import StandardScaler, MinMaxScaler\n",
    "from sklearn.linear_model import LogisticRegression\n",
    "import category_encoders as ce\n",
    "from sklearn.metrics import accuracy_score, confusion_matrix, ConfusionMatrixDisplay, classification_report\n",
    "from imblearn.over_sampling import SMOTE\n",
    "from sklearn.neighbors import KNeighborsRegressor"
   ]
  },
  {
   "cell_type": "code",
   "execution_count": 5,
   "id": "9dee2991",
   "metadata": {},
   "outputs": [],
   "source": [
    "warnings.filterwarnings('ignore')"
   ]
  },
  {
   "cell_type": "code",
   "execution_count": 6,
   "id": "6d21be9e",
   "metadata": {},
   "outputs": [
    {
     "ename": "FileNotFoundError",
     "evalue": "[Errno 2] No such file or directory: 'SampleSubmission.csv'",
     "output_type": "error",
     "traceback": [
      "\u001b[0;31m---------------------------------------------------------------------------\u001b[0m",
      "\u001b[0;31mFileNotFoundError\u001b[0m                         Traceback (most recent call last)",
      "Input \u001b[0;32mIn [6]\u001b[0m, in \u001b[0;36m<cell line: 1>\u001b[0;34m()\u001b[0m\n\u001b[0;32m----> 1\u001b[0m sample \u001b[38;5;241m=\u001b[39m \u001b[43mpd\u001b[49m\u001b[38;5;241;43m.\u001b[39;49m\u001b[43mread_csv\u001b[49m\u001b[43m(\u001b[49m\u001b[38;5;124;43m'\u001b[39;49m\u001b[38;5;124;43mSampleSubmission.csv\u001b[39;49m\u001b[38;5;124;43m'\u001b[39;49m\u001b[43m)\u001b[49m\n\u001b[1;32m      2\u001b[0m sample\n",
      "File \u001b[0;32m~/opt/anaconda3/lib/python3.9/site-packages/pandas/util/_decorators.py:311\u001b[0m, in \u001b[0;36mdeprecate_nonkeyword_arguments.<locals>.decorate.<locals>.wrapper\u001b[0;34m(*args, **kwargs)\u001b[0m\n\u001b[1;32m    305\u001b[0m \u001b[38;5;28;01mif\u001b[39;00m \u001b[38;5;28mlen\u001b[39m(args) \u001b[38;5;241m>\u001b[39m num_allow_args:\n\u001b[1;32m    306\u001b[0m     warnings\u001b[38;5;241m.\u001b[39mwarn(\n\u001b[1;32m    307\u001b[0m         msg\u001b[38;5;241m.\u001b[39mformat(arguments\u001b[38;5;241m=\u001b[39marguments),\n\u001b[1;32m    308\u001b[0m         \u001b[38;5;167;01mFutureWarning\u001b[39;00m,\n\u001b[1;32m    309\u001b[0m         stacklevel\u001b[38;5;241m=\u001b[39mstacklevel,\n\u001b[1;32m    310\u001b[0m     )\n\u001b[0;32m--> 311\u001b[0m \u001b[38;5;28;01mreturn\u001b[39;00m \u001b[43mfunc\u001b[49m\u001b[43m(\u001b[49m\u001b[38;5;241;43m*\u001b[39;49m\u001b[43margs\u001b[49m\u001b[43m,\u001b[49m\u001b[43m \u001b[49m\u001b[38;5;241;43m*\u001b[39;49m\u001b[38;5;241;43m*\u001b[39;49m\u001b[43mkwargs\u001b[49m\u001b[43m)\u001b[49m\n",
      "File \u001b[0;32m~/opt/anaconda3/lib/python3.9/site-packages/pandas/io/parsers/readers.py:680\u001b[0m, in \u001b[0;36mread_csv\u001b[0;34m(filepath_or_buffer, sep, delimiter, header, names, index_col, usecols, squeeze, prefix, mangle_dupe_cols, dtype, engine, converters, true_values, false_values, skipinitialspace, skiprows, skipfooter, nrows, na_values, keep_default_na, na_filter, verbose, skip_blank_lines, parse_dates, infer_datetime_format, keep_date_col, date_parser, dayfirst, cache_dates, iterator, chunksize, compression, thousands, decimal, lineterminator, quotechar, quoting, doublequote, escapechar, comment, encoding, encoding_errors, dialect, error_bad_lines, warn_bad_lines, on_bad_lines, delim_whitespace, low_memory, memory_map, float_precision, storage_options)\u001b[0m\n\u001b[1;32m    665\u001b[0m kwds_defaults \u001b[38;5;241m=\u001b[39m _refine_defaults_read(\n\u001b[1;32m    666\u001b[0m     dialect,\n\u001b[1;32m    667\u001b[0m     delimiter,\n\u001b[0;32m   (...)\u001b[0m\n\u001b[1;32m    676\u001b[0m     defaults\u001b[38;5;241m=\u001b[39m{\u001b[38;5;124m\"\u001b[39m\u001b[38;5;124mdelimiter\u001b[39m\u001b[38;5;124m\"\u001b[39m: \u001b[38;5;124m\"\u001b[39m\u001b[38;5;124m,\u001b[39m\u001b[38;5;124m\"\u001b[39m},\n\u001b[1;32m    677\u001b[0m )\n\u001b[1;32m    678\u001b[0m kwds\u001b[38;5;241m.\u001b[39mupdate(kwds_defaults)\n\u001b[0;32m--> 680\u001b[0m \u001b[38;5;28;01mreturn\u001b[39;00m \u001b[43m_read\u001b[49m\u001b[43m(\u001b[49m\u001b[43mfilepath_or_buffer\u001b[49m\u001b[43m,\u001b[49m\u001b[43m \u001b[49m\u001b[43mkwds\u001b[49m\u001b[43m)\u001b[49m\n",
      "File \u001b[0;32m~/opt/anaconda3/lib/python3.9/site-packages/pandas/io/parsers/readers.py:575\u001b[0m, in \u001b[0;36m_read\u001b[0;34m(filepath_or_buffer, kwds)\u001b[0m\n\u001b[1;32m    572\u001b[0m _validate_names(kwds\u001b[38;5;241m.\u001b[39mget(\u001b[38;5;124m\"\u001b[39m\u001b[38;5;124mnames\u001b[39m\u001b[38;5;124m\"\u001b[39m, \u001b[38;5;28;01mNone\u001b[39;00m))\n\u001b[1;32m    574\u001b[0m \u001b[38;5;66;03m# Create the parser.\u001b[39;00m\n\u001b[0;32m--> 575\u001b[0m parser \u001b[38;5;241m=\u001b[39m \u001b[43mTextFileReader\u001b[49m\u001b[43m(\u001b[49m\u001b[43mfilepath_or_buffer\u001b[49m\u001b[43m,\u001b[49m\u001b[43m \u001b[49m\u001b[38;5;241;43m*\u001b[39;49m\u001b[38;5;241;43m*\u001b[39;49m\u001b[43mkwds\u001b[49m\u001b[43m)\u001b[49m\n\u001b[1;32m    577\u001b[0m \u001b[38;5;28;01mif\u001b[39;00m chunksize \u001b[38;5;129;01mor\u001b[39;00m iterator:\n\u001b[1;32m    578\u001b[0m     \u001b[38;5;28;01mreturn\u001b[39;00m parser\n",
      "File \u001b[0;32m~/opt/anaconda3/lib/python3.9/site-packages/pandas/io/parsers/readers.py:933\u001b[0m, in \u001b[0;36mTextFileReader.__init__\u001b[0;34m(self, f, engine, **kwds)\u001b[0m\n\u001b[1;32m    930\u001b[0m     \u001b[38;5;28mself\u001b[39m\u001b[38;5;241m.\u001b[39moptions[\u001b[38;5;124m\"\u001b[39m\u001b[38;5;124mhas_index_names\u001b[39m\u001b[38;5;124m\"\u001b[39m] \u001b[38;5;241m=\u001b[39m kwds[\u001b[38;5;124m\"\u001b[39m\u001b[38;5;124mhas_index_names\u001b[39m\u001b[38;5;124m\"\u001b[39m]\n\u001b[1;32m    932\u001b[0m \u001b[38;5;28mself\u001b[39m\u001b[38;5;241m.\u001b[39mhandles: IOHandles \u001b[38;5;241m|\u001b[39m \u001b[38;5;28;01mNone\u001b[39;00m \u001b[38;5;241m=\u001b[39m \u001b[38;5;28;01mNone\u001b[39;00m\n\u001b[0;32m--> 933\u001b[0m \u001b[38;5;28mself\u001b[39m\u001b[38;5;241m.\u001b[39m_engine \u001b[38;5;241m=\u001b[39m \u001b[38;5;28;43mself\u001b[39;49m\u001b[38;5;241;43m.\u001b[39;49m\u001b[43m_make_engine\u001b[49m\u001b[43m(\u001b[49m\u001b[43mf\u001b[49m\u001b[43m,\u001b[49m\u001b[43m \u001b[49m\u001b[38;5;28;43mself\u001b[39;49m\u001b[38;5;241;43m.\u001b[39;49m\u001b[43mengine\u001b[49m\u001b[43m)\u001b[49m\n",
      "File \u001b[0;32m~/opt/anaconda3/lib/python3.9/site-packages/pandas/io/parsers/readers.py:1217\u001b[0m, in \u001b[0;36mTextFileReader._make_engine\u001b[0;34m(self, f, engine)\u001b[0m\n\u001b[1;32m   1213\u001b[0m     mode \u001b[38;5;241m=\u001b[39m \u001b[38;5;124m\"\u001b[39m\u001b[38;5;124mrb\u001b[39m\u001b[38;5;124m\"\u001b[39m\n\u001b[1;32m   1214\u001b[0m \u001b[38;5;66;03m# error: No overload variant of \"get_handle\" matches argument types\u001b[39;00m\n\u001b[1;32m   1215\u001b[0m \u001b[38;5;66;03m# \"Union[str, PathLike[str], ReadCsvBuffer[bytes], ReadCsvBuffer[str]]\"\u001b[39;00m\n\u001b[1;32m   1216\u001b[0m \u001b[38;5;66;03m# , \"str\", \"bool\", \"Any\", \"Any\", \"Any\", \"Any\", \"Any\"\u001b[39;00m\n\u001b[0;32m-> 1217\u001b[0m \u001b[38;5;28mself\u001b[39m\u001b[38;5;241m.\u001b[39mhandles \u001b[38;5;241m=\u001b[39m \u001b[43mget_handle\u001b[49m\u001b[43m(\u001b[49m\u001b[43m  \u001b[49m\u001b[38;5;66;43;03m# type: ignore[call-overload]\u001b[39;49;00m\n\u001b[1;32m   1218\u001b[0m \u001b[43m    \u001b[49m\u001b[43mf\u001b[49m\u001b[43m,\u001b[49m\n\u001b[1;32m   1219\u001b[0m \u001b[43m    \u001b[49m\u001b[43mmode\u001b[49m\u001b[43m,\u001b[49m\n\u001b[1;32m   1220\u001b[0m \u001b[43m    \u001b[49m\u001b[43mencoding\u001b[49m\u001b[38;5;241;43m=\u001b[39;49m\u001b[38;5;28;43mself\u001b[39;49m\u001b[38;5;241;43m.\u001b[39;49m\u001b[43moptions\u001b[49m\u001b[38;5;241;43m.\u001b[39;49m\u001b[43mget\u001b[49m\u001b[43m(\u001b[49m\u001b[38;5;124;43m\"\u001b[39;49m\u001b[38;5;124;43mencoding\u001b[39;49m\u001b[38;5;124;43m\"\u001b[39;49m\u001b[43m,\u001b[49m\u001b[43m \u001b[49m\u001b[38;5;28;43;01mNone\u001b[39;49;00m\u001b[43m)\u001b[49m\u001b[43m,\u001b[49m\n\u001b[1;32m   1221\u001b[0m \u001b[43m    \u001b[49m\u001b[43mcompression\u001b[49m\u001b[38;5;241;43m=\u001b[39;49m\u001b[38;5;28;43mself\u001b[39;49m\u001b[38;5;241;43m.\u001b[39;49m\u001b[43moptions\u001b[49m\u001b[38;5;241;43m.\u001b[39;49m\u001b[43mget\u001b[49m\u001b[43m(\u001b[49m\u001b[38;5;124;43m\"\u001b[39;49m\u001b[38;5;124;43mcompression\u001b[39;49m\u001b[38;5;124;43m\"\u001b[39;49m\u001b[43m,\u001b[49m\u001b[43m \u001b[49m\u001b[38;5;28;43;01mNone\u001b[39;49;00m\u001b[43m)\u001b[49m\u001b[43m,\u001b[49m\n\u001b[1;32m   1222\u001b[0m \u001b[43m    \u001b[49m\u001b[43mmemory_map\u001b[49m\u001b[38;5;241;43m=\u001b[39;49m\u001b[38;5;28;43mself\u001b[39;49m\u001b[38;5;241;43m.\u001b[39;49m\u001b[43moptions\u001b[49m\u001b[38;5;241;43m.\u001b[39;49m\u001b[43mget\u001b[49m\u001b[43m(\u001b[49m\u001b[38;5;124;43m\"\u001b[39;49m\u001b[38;5;124;43mmemory_map\u001b[39;49m\u001b[38;5;124;43m\"\u001b[39;49m\u001b[43m,\u001b[49m\u001b[43m \u001b[49m\u001b[38;5;28;43;01mFalse\u001b[39;49;00m\u001b[43m)\u001b[49m\u001b[43m,\u001b[49m\n\u001b[1;32m   1223\u001b[0m \u001b[43m    \u001b[49m\u001b[43mis_text\u001b[49m\u001b[38;5;241;43m=\u001b[39;49m\u001b[43mis_text\u001b[49m\u001b[43m,\u001b[49m\n\u001b[1;32m   1224\u001b[0m \u001b[43m    \u001b[49m\u001b[43merrors\u001b[49m\u001b[38;5;241;43m=\u001b[39;49m\u001b[38;5;28;43mself\u001b[39;49m\u001b[38;5;241;43m.\u001b[39;49m\u001b[43moptions\u001b[49m\u001b[38;5;241;43m.\u001b[39;49m\u001b[43mget\u001b[49m\u001b[43m(\u001b[49m\u001b[38;5;124;43m\"\u001b[39;49m\u001b[38;5;124;43mencoding_errors\u001b[39;49m\u001b[38;5;124;43m\"\u001b[39;49m\u001b[43m,\u001b[49m\u001b[43m \u001b[49m\u001b[38;5;124;43m\"\u001b[39;49m\u001b[38;5;124;43mstrict\u001b[39;49m\u001b[38;5;124;43m\"\u001b[39;49m\u001b[43m)\u001b[49m\u001b[43m,\u001b[49m\n\u001b[1;32m   1225\u001b[0m \u001b[43m    \u001b[49m\u001b[43mstorage_options\u001b[49m\u001b[38;5;241;43m=\u001b[39;49m\u001b[38;5;28;43mself\u001b[39;49m\u001b[38;5;241;43m.\u001b[39;49m\u001b[43moptions\u001b[49m\u001b[38;5;241;43m.\u001b[39;49m\u001b[43mget\u001b[49m\u001b[43m(\u001b[49m\u001b[38;5;124;43m\"\u001b[39;49m\u001b[38;5;124;43mstorage_options\u001b[39;49m\u001b[38;5;124;43m\"\u001b[39;49m\u001b[43m,\u001b[49m\u001b[43m \u001b[49m\u001b[38;5;28;43;01mNone\u001b[39;49;00m\u001b[43m)\u001b[49m\u001b[43m,\u001b[49m\n\u001b[1;32m   1226\u001b[0m \u001b[43m\u001b[49m\u001b[43m)\u001b[49m\n\u001b[1;32m   1227\u001b[0m \u001b[38;5;28;01massert\u001b[39;00m \u001b[38;5;28mself\u001b[39m\u001b[38;5;241m.\u001b[39mhandles \u001b[38;5;129;01mis\u001b[39;00m \u001b[38;5;129;01mnot\u001b[39;00m \u001b[38;5;28;01mNone\u001b[39;00m\n\u001b[1;32m   1228\u001b[0m f \u001b[38;5;241m=\u001b[39m \u001b[38;5;28mself\u001b[39m\u001b[38;5;241m.\u001b[39mhandles\u001b[38;5;241m.\u001b[39mhandle\n",
      "File \u001b[0;32m~/opt/anaconda3/lib/python3.9/site-packages/pandas/io/common.py:789\u001b[0m, in \u001b[0;36mget_handle\u001b[0;34m(path_or_buf, mode, encoding, compression, memory_map, is_text, errors, storage_options)\u001b[0m\n\u001b[1;32m    784\u001b[0m \u001b[38;5;28;01melif\u001b[39;00m \u001b[38;5;28misinstance\u001b[39m(handle, \u001b[38;5;28mstr\u001b[39m):\n\u001b[1;32m    785\u001b[0m     \u001b[38;5;66;03m# Check whether the filename is to be opened in binary mode.\u001b[39;00m\n\u001b[1;32m    786\u001b[0m     \u001b[38;5;66;03m# Binary mode does not support 'encoding' and 'newline'.\u001b[39;00m\n\u001b[1;32m    787\u001b[0m     \u001b[38;5;28;01mif\u001b[39;00m ioargs\u001b[38;5;241m.\u001b[39mencoding \u001b[38;5;129;01mand\u001b[39;00m \u001b[38;5;124m\"\u001b[39m\u001b[38;5;124mb\u001b[39m\u001b[38;5;124m\"\u001b[39m \u001b[38;5;129;01mnot\u001b[39;00m \u001b[38;5;129;01min\u001b[39;00m ioargs\u001b[38;5;241m.\u001b[39mmode:\n\u001b[1;32m    788\u001b[0m         \u001b[38;5;66;03m# Encoding\u001b[39;00m\n\u001b[0;32m--> 789\u001b[0m         handle \u001b[38;5;241m=\u001b[39m \u001b[38;5;28;43mopen\u001b[39;49m\u001b[43m(\u001b[49m\n\u001b[1;32m    790\u001b[0m \u001b[43m            \u001b[49m\u001b[43mhandle\u001b[49m\u001b[43m,\u001b[49m\n\u001b[1;32m    791\u001b[0m \u001b[43m            \u001b[49m\u001b[43mioargs\u001b[49m\u001b[38;5;241;43m.\u001b[39;49m\u001b[43mmode\u001b[49m\u001b[43m,\u001b[49m\n\u001b[1;32m    792\u001b[0m \u001b[43m            \u001b[49m\u001b[43mencoding\u001b[49m\u001b[38;5;241;43m=\u001b[39;49m\u001b[43mioargs\u001b[49m\u001b[38;5;241;43m.\u001b[39;49m\u001b[43mencoding\u001b[49m\u001b[43m,\u001b[49m\n\u001b[1;32m    793\u001b[0m \u001b[43m            \u001b[49m\u001b[43merrors\u001b[49m\u001b[38;5;241;43m=\u001b[39;49m\u001b[43merrors\u001b[49m\u001b[43m,\u001b[49m\n\u001b[1;32m    794\u001b[0m \u001b[43m            \u001b[49m\u001b[43mnewline\u001b[49m\u001b[38;5;241;43m=\u001b[39;49m\u001b[38;5;124;43m\"\u001b[39;49m\u001b[38;5;124;43m\"\u001b[39;49m\u001b[43m,\u001b[49m\n\u001b[1;32m    795\u001b[0m \u001b[43m        \u001b[49m\u001b[43m)\u001b[49m\n\u001b[1;32m    796\u001b[0m     \u001b[38;5;28;01melse\u001b[39;00m:\n\u001b[1;32m    797\u001b[0m         \u001b[38;5;66;03m# Binary mode\u001b[39;00m\n\u001b[1;32m    798\u001b[0m         handle \u001b[38;5;241m=\u001b[39m \u001b[38;5;28mopen\u001b[39m(handle, ioargs\u001b[38;5;241m.\u001b[39mmode)\n",
      "\u001b[0;31mFileNotFoundError\u001b[0m: [Errno 2] No such file or directory: 'SampleSubmission.csv'"
     ]
    }
   ],
   "source": [
    "sample = pd.read_csv('SampleSubmission.csv')\n",
    "sample"
   ]
  },
  {
   "cell_type": "code",
   "execution_count": 7,
   "id": "4dd32fd9",
   "metadata": {},
   "outputs": [
    {
     "ename": "FileNotFoundError",
     "evalue": "[Errno 2] No such file or directory: 'traindemographics.csv'",
     "output_type": "error",
     "traceback": [
      "\u001b[0;31m---------------------------------------------------------------------------\u001b[0m",
      "\u001b[0;31mFileNotFoundError\u001b[0m                         Traceback (most recent call last)",
      "Input \u001b[0;32mIn [7]\u001b[0m, in \u001b[0;36m<cell line: 1>\u001b[0;34m()\u001b[0m\n\u001b[0;32m----> 1\u001b[0m demographic \u001b[38;5;241m=\u001b[39m \u001b[43mpd\u001b[49m\u001b[38;5;241;43m.\u001b[39;49m\u001b[43mread_csv\u001b[49m\u001b[43m(\u001b[49m\u001b[38;5;124;43m'\u001b[39;49m\u001b[38;5;124;43mtraindemographics.csv\u001b[39;49m\u001b[38;5;124;43m'\u001b[39;49m\u001b[43m)\u001b[49m\n\u001b[1;32m      2\u001b[0m demographic\u001b[38;5;241m.\u001b[39mhead()\n",
      "File \u001b[0;32m~/opt/anaconda3/lib/python3.9/site-packages/pandas/util/_decorators.py:311\u001b[0m, in \u001b[0;36mdeprecate_nonkeyword_arguments.<locals>.decorate.<locals>.wrapper\u001b[0;34m(*args, **kwargs)\u001b[0m\n\u001b[1;32m    305\u001b[0m \u001b[38;5;28;01mif\u001b[39;00m \u001b[38;5;28mlen\u001b[39m(args) \u001b[38;5;241m>\u001b[39m num_allow_args:\n\u001b[1;32m    306\u001b[0m     warnings\u001b[38;5;241m.\u001b[39mwarn(\n\u001b[1;32m    307\u001b[0m         msg\u001b[38;5;241m.\u001b[39mformat(arguments\u001b[38;5;241m=\u001b[39marguments),\n\u001b[1;32m    308\u001b[0m         \u001b[38;5;167;01mFutureWarning\u001b[39;00m,\n\u001b[1;32m    309\u001b[0m         stacklevel\u001b[38;5;241m=\u001b[39mstacklevel,\n\u001b[1;32m    310\u001b[0m     )\n\u001b[0;32m--> 311\u001b[0m \u001b[38;5;28;01mreturn\u001b[39;00m \u001b[43mfunc\u001b[49m\u001b[43m(\u001b[49m\u001b[38;5;241;43m*\u001b[39;49m\u001b[43margs\u001b[49m\u001b[43m,\u001b[49m\u001b[43m \u001b[49m\u001b[38;5;241;43m*\u001b[39;49m\u001b[38;5;241;43m*\u001b[39;49m\u001b[43mkwargs\u001b[49m\u001b[43m)\u001b[49m\n",
      "File \u001b[0;32m~/opt/anaconda3/lib/python3.9/site-packages/pandas/io/parsers/readers.py:680\u001b[0m, in \u001b[0;36mread_csv\u001b[0;34m(filepath_or_buffer, sep, delimiter, header, names, index_col, usecols, squeeze, prefix, mangle_dupe_cols, dtype, engine, converters, true_values, false_values, skipinitialspace, skiprows, skipfooter, nrows, na_values, keep_default_na, na_filter, verbose, skip_blank_lines, parse_dates, infer_datetime_format, keep_date_col, date_parser, dayfirst, cache_dates, iterator, chunksize, compression, thousands, decimal, lineterminator, quotechar, quoting, doublequote, escapechar, comment, encoding, encoding_errors, dialect, error_bad_lines, warn_bad_lines, on_bad_lines, delim_whitespace, low_memory, memory_map, float_precision, storage_options)\u001b[0m\n\u001b[1;32m    665\u001b[0m kwds_defaults \u001b[38;5;241m=\u001b[39m _refine_defaults_read(\n\u001b[1;32m    666\u001b[0m     dialect,\n\u001b[1;32m    667\u001b[0m     delimiter,\n\u001b[0;32m   (...)\u001b[0m\n\u001b[1;32m    676\u001b[0m     defaults\u001b[38;5;241m=\u001b[39m{\u001b[38;5;124m\"\u001b[39m\u001b[38;5;124mdelimiter\u001b[39m\u001b[38;5;124m\"\u001b[39m: \u001b[38;5;124m\"\u001b[39m\u001b[38;5;124m,\u001b[39m\u001b[38;5;124m\"\u001b[39m},\n\u001b[1;32m    677\u001b[0m )\n\u001b[1;32m    678\u001b[0m kwds\u001b[38;5;241m.\u001b[39mupdate(kwds_defaults)\n\u001b[0;32m--> 680\u001b[0m \u001b[38;5;28;01mreturn\u001b[39;00m \u001b[43m_read\u001b[49m\u001b[43m(\u001b[49m\u001b[43mfilepath_or_buffer\u001b[49m\u001b[43m,\u001b[49m\u001b[43m \u001b[49m\u001b[43mkwds\u001b[49m\u001b[43m)\u001b[49m\n",
      "File \u001b[0;32m~/opt/anaconda3/lib/python3.9/site-packages/pandas/io/parsers/readers.py:575\u001b[0m, in \u001b[0;36m_read\u001b[0;34m(filepath_or_buffer, kwds)\u001b[0m\n\u001b[1;32m    572\u001b[0m _validate_names(kwds\u001b[38;5;241m.\u001b[39mget(\u001b[38;5;124m\"\u001b[39m\u001b[38;5;124mnames\u001b[39m\u001b[38;5;124m\"\u001b[39m, \u001b[38;5;28;01mNone\u001b[39;00m))\n\u001b[1;32m    574\u001b[0m \u001b[38;5;66;03m# Create the parser.\u001b[39;00m\n\u001b[0;32m--> 575\u001b[0m parser \u001b[38;5;241m=\u001b[39m \u001b[43mTextFileReader\u001b[49m\u001b[43m(\u001b[49m\u001b[43mfilepath_or_buffer\u001b[49m\u001b[43m,\u001b[49m\u001b[43m \u001b[49m\u001b[38;5;241;43m*\u001b[39;49m\u001b[38;5;241;43m*\u001b[39;49m\u001b[43mkwds\u001b[49m\u001b[43m)\u001b[49m\n\u001b[1;32m    577\u001b[0m \u001b[38;5;28;01mif\u001b[39;00m chunksize \u001b[38;5;129;01mor\u001b[39;00m iterator:\n\u001b[1;32m    578\u001b[0m     \u001b[38;5;28;01mreturn\u001b[39;00m parser\n",
      "File \u001b[0;32m~/opt/anaconda3/lib/python3.9/site-packages/pandas/io/parsers/readers.py:933\u001b[0m, in \u001b[0;36mTextFileReader.__init__\u001b[0;34m(self, f, engine, **kwds)\u001b[0m\n\u001b[1;32m    930\u001b[0m     \u001b[38;5;28mself\u001b[39m\u001b[38;5;241m.\u001b[39moptions[\u001b[38;5;124m\"\u001b[39m\u001b[38;5;124mhas_index_names\u001b[39m\u001b[38;5;124m\"\u001b[39m] \u001b[38;5;241m=\u001b[39m kwds[\u001b[38;5;124m\"\u001b[39m\u001b[38;5;124mhas_index_names\u001b[39m\u001b[38;5;124m\"\u001b[39m]\n\u001b[1;32m    932\u001b[0m \u001b[38;5;28mself\u001b[39m\u001b[38;5;241m.\u001b[39mhandles: IOHandles \u001b[38;5;241m|\u001b[39m \u001b[38;5;28;01mNone\u001b[39;00m \u001b[38;5;241m=\u001b[39m \u001b[38;5;28;01mNone\u001b[39;00m\n\u001b[0;32m--> 933\u001b[0m \u001b[38;5;28mself\u001b[39m\u001b[38;5;241m.\u001b[39m_engine \u001b[38;5;241m=\u001b[39m \u001b[38;5;28;43mself\u001b[39;49m\u001b[38;5;241;43m.\u001b[39;49m\u001b[43m_make_engine\u001b[49m\u001b[43m(\u001b[49m\u001b[43mf\u001b[49m\u001b[43m,\u001b[49m\u001b[43m \u001b[49m\u001b[38;5;28;43mself\u001b[39;49m\u001b[38;5;241;43m.\u001b[39;49m\u001b[43mengine\u001b[49m\u001b[43m)\u001b[49m\n",
      "File \u001b[0;32m~/opt/anaconda3/lib/python3.9/site-packages/pandas/io/parsers/readers.py:1217\u001b[0m, in \u001b[0;36mTextFileReader._make_engine\u001b[0;34m(self, f, engine)\u001b[0m\n\u001b[1;32m   1213\u001b[0m     mode \u001b[38;5;241m=\u001b[39m \u001b[38;5;124m\"\u001b[39m\u001b[38;5;124mrb\u001b[39m\u001b[38;5;124m\"\u001b[39m\n\u001b[1;32m   1214\u001b[0m \u001b[38;5;66;03m# error: No overload variant of \"get_handle\" matches argument types\u001b[39;00m\n\u001b[1;32m   1215\u001b[0m \u001b[38;5;66;03m# \"Union[str, PathLike[str], ReadCsvBuffer[bytes], ReadCsvBuffer[str]]\"\u001b[39;00m\n\u001b[1;32m   1216\u001b[0m \u001b[38;5;66;03m# , \"str\", \"bool\", \"Any\", \"Any\", \"Any\", \"Any\", \"Any\"\u001b[39;00m\n\u001b[0;32m-> 1217\u001b[0m \u001b[38;5;28mself\u001b[39m\u001b[38;5;241m.\u001b[39mhandles \u001b[38;5;241m=\u001b[39m \u001b[43mget_handle\u001b[49m\u001b[43m(\u001b[49m\u001b[43m  \u001b[49m\u001b[38;5;66;43;03m# type: ignore[call-overload]\u001b[39;49;00m\n\u001b[1;32m   1218\u001b[0m \u001b[43m    \u001b[49m\u001b[43mf\u001b[49m\u001b[43m,\u001b[49m\n\u001b[1;32m   1219\u001b[0m \u001b[43m    \u001b[49m\u001b[43mmode\u001b[49m\u001b[43m,\u001b[49m\n\u001b[1;32m   1220\u001b[0m \u001b[43m    \u001b[49m\u001b[43mencoding\u001b[49m\u001b[38;5;241;43m=\u001b[39;49m\u001b[38;5;28;43mself\u001b[39;49m\u001b[38;5;241;43m.\u001b[39;49m\u001b[43moptions\u001b[49m\u001b[38;5;241;43m.\u001b[39;49m\u001b[43mget\u001b[49m\u001b[43m(\u001b[49m\u001b[38;5;124;43m\"\u001b[39;49m\u001b[38;5;124;43mencoding\u001b[39;49m\u001b[38;5;124;43m\"\u001b[39;49m\u001b[43m,\u001b[49m\u001b[43m \u001b[49m\u001b[38;5;28;43;01mNone\u001b[39;49;00m\u001b[43m)\u001b[49m\u001b[43m,\u001b[49m\n\u001b[1;32m   1221\u001b[0m \u001b[43m    \u001b[49m\u001b[43mcompression\u001b[49m\u001b[38;5;241;43m=\u001b[39;49m\u001b[38;5;28;43mself\u001b[39;49m\u001b[38;5;241;43m.\u001b[39;49m\u001b[43moptions\u001b[49m\u001b[38;5;241;43m.\u001b[39;49m\u001b[43mget\u001b[49m\u001b[43m(\u001b[49m\u001b[38;5;124;43m\"\u001b[39;49m\u001b[38;5;124;43mcompression\u001b[39;49m\u001b[38;5;124;43m\"\u001b[39;49m\u001b[43m,\u001b[49m\u001b[43m \u001b[49m\u001b[38;5;28;43;01mNone\u001b[39;49;00m\u001b[43m)\u001b[49m\u001b[43m,\u001b[49m\n\u001b[1;32m   1222\u001b[0m \u001b[43m    \u001b[49m\u001b[43mmemory_map\u001b[49m\u001b[38;5;241;43m=\u001b[39;49m\u001b[38;5;28;43mself\u001b[39;49m\u001b[38;5;241;43m.\u001b[39;49m\u001b[43moptions\u001b[49m\u001b[38;5;241;43m.\u001b[39;49m\u001b[43mget\u001b[49m\u001b[43m(\u001b[49m\u001b[38;5;124;43m\"\u001b[39;49m\u001b[38;5;124;43mmemory_map\u001b[39;49m\u001b[38;5;124;43m\"\u001b[39;49m\u001b[43m,\u001b[49m\u001b[43m \u001b[49m\u001b[38;5;28;43;01mFalse\u001b[39;49;00m\u001b[43m)\u001b[49m\u001b[43m,\u001b[49m\n\u001b[1;32m   1223\u001b[0m \u001b[43m    \u001b[49m\u001b[43mis_text\u001b[49m\u001b[38;5;241;43m=\u001b[39;49m\u001b[43mis_text\u001b[49m\u001b[43m,\u001b[49m\n\u001b[1;32m   1224\u001b[0m \u001b[43m    \u001b[49m\u001b[43merrors\u001b[49m\u001b[38;5;241;43m=\u001b[39;49m\u001b[38;5;28;43mself\u001b[39;49m\u001b[38;5;241;43m.\u001b[39;49m\u001b[43moptions\u001b[49m\u001b[38;5;241;43m.\u001b[39;49m\u001b[43mget\u001b[49m\u001b[43m(\u001b[49m\u001b[38;5;124;43m\"\u001b[39;49m\u001b[38;5;124;43mencoding_errors\u001b[39;49m\u001b[38;5;124;43m\"\u001b[39;49m\u001b[43m,\u001b[49m\u001b[43m \u001b[49m\u001b[38;5;124;43m\"\u001b[39;49m\u001b[38;5;124;43mstrict\u001b[39;49m\u001b[38;5;124;43m\"\u001b[39;49m\u001b[43m)\u001b[49m\u001b[43m,\u001b[49m\n\u001b[1;32m   1225\u001b[0m \u001b[43m    \u001b[49m\u001b[43mstorage_options\u001b[49m\u001b[38;5;241;43m=\u001b[39;49m\u001b[38;5;28;43mself\u001b[39;49m\u001b[38;5;241;43m.\u001b[39;49m\u001b[43moptions\u001b[49m\u001b[38;5;241;43m.\u001b[39;49m\u001b[43mget\u001b[49m\u001b[43m(\u001b[49m\u001b[38;5;124;43m\"\u001b[39;49m\u001b[38;5;124;43mstorage_options\u001b[39;49m\u001b[38;5;124;43m\"\u001b[39;49m\u001b[43m,\u001b[49m\u001b[43m \u001b[49m\u001b[38;5;28;43;01mNone\u001b[39;49;00m\u001b[43m)\u001b[49m\u001b[43m,\u001b[49m\n\u001b[1;32m   1226\u001b[0m \u001b[43m\u001b[49m\u001b[43m)\u001b[49m\n\u001b[1;32m   1227\u001b[0m \u001b[38;5;28;01massert\u001b[39;00m \u001b[38;5;28mself\u001b[39m\u001b[38;5;241m.\u001b[39mhandles \u001b[38;5;129;01mis\u001b[39;00m \u001b[38;5;129;01mnot\u001b[39;00m \u001b[38;5;28;01mNone\u001b[39;00m\n\u001b[1;32m   1228\u001b[0m f \u001b[38;5;241m=\u001b[39m \u001b[38;5;28mself\u001b[39m\u001b[38;5;241m.\u001b[39mhandles\u001b[38;5;241m.\u001b[39mhandle\n",
      "File \u001b[0;32m~/opt/anaconda3/lib/python3.9/site-packages/pandas/io/common.py:789\u001b[0m, in \u001b[0;36mget_handle\u001b[0;34m(path_or_buf, mode, encoding, compression, memory_map, is_text, errors, storage_options)\u001b[0m\n\u001b[1;32m    784\u001b[0m \u001b[38;5;28;01melif\u001b[39;00m \u001b[38;5;28misinstance\u001b[39m(handle, \u001b[38;5;28mstr\u001b[39m):\n\u001b[1;32m    785\u001b[0m     \u001b[38;5;66;03m# Check whether the filename is to be opened in binary mode.\u001b[39;00m\n\u001b[1;32m    786\u001b[0m     \u001b[38;5;66;03m# Binary mode does not support 'encoding' and 'newline'.\u001b[39;00m\n\u001b[1;32m    787\u001b[0m     \u001b[38;5;28;01mif\u001b[39;00m ioargs\u001b[38;5;241m.\u001b[39mencoding \u001b[38;5;129;01mand\u001b[39;00m \u001b[38;5;124m\"\u001b[39m\u001b[38;5;124mb\u001b[39m\u001b[38;5;124m\"\u001b[39m \u001b[38;5;129;01mnot\u001b[39;00m \u001b[38;5;129;01min\u001b[39;00m ioargs\u001b[38;5;241m.\u001b[39mmode:\n\u001b[1;32m    788\u001b[0m         \u001b[38;5;66;03m# Encoding\u001b[39;00m\n\u001b[0;32m--> 789\u001b[0m         handle \u001b[38;5;241m=\u001b[39m \u001b[38;5;28;43mopen\u001b[39;49m\u001b[43m(\u001b[49m\n\u001b[1;32m    790\u001b[0m \u001b[43m            \u001b[49m\u001b[43mhandle\u001b[49m\u001b[43m,\u001b[49m\n\u001b[1;32m    791\u001b[0m \u001b[43m            \u001b[49m\u001b[43mioargs\u001b[49m\u001b[38;5;241;43m.\u001b[39;49m\u001b[43mmode\u001b[49m\u001b[43m,\u001b[49m\n\u001b[1;32m    792\u001b[0m \u001b[43m            \u001b[49m\u001b[43mencoding\u001b[49m\u001b[38;5;241;43m=\u001b[39;49m\u001b[43mioargs\u001b[49m\u001b[38;5;241;43m.\u001b[39;49m\u001b[43mencoding\u001b[49m\u001b[43m,\u001b[49m\n\u001b[1;32m    793\u001b[0m \u001b[43m            \u001b[49m\u001b[43merrors\u001b[49m\u001b[38;5;241;43m=\u001b[39;49m\u001b[43merrors\u001b[49m\u001b[43m,\u001b[49m\n\u001b[1;32m    794\u001b[0m \u001b[43m            \u001b[49m\u001b[43mnewline\u001b[49m\u001b[38;5;241;43m=\u001b[39;49m\u001b[38;5;124;43m\"\u001b[39;49m\u001b[38;5;124;43m\"\u001b[39;49m\u001b[43m,\u001b[49m\n\u001b[1;32m    795\u001b[0m \u001b[43m        \u001b[49m\u001b[43m)\u001b[49m\n\u001b[1;32m    796\u001b[0m     \u001b[38;5;28;01melse\u001b[39;00m:\n\u001b[1;32m    797\u001b[0m         \u001b[38;5;66;03m# Binary mode\u001b[39;00m\n\u001b[1;32m    798\u001b[0m         handle \u001b[38;5;241m=\u001b[39m \u001b[38;5;28mopen\u001b[39m(handle, ioargs\u001b[38;5;241m.\u001b[39mmode)\n",
      "\u001b[0;31mFileNotFoundError\u001b[0m: [Errno 2] No such file or directory: 'traindemographics.csv'"
     ]
    }
   ],
   "source": [
    "demographic = pd.read_csv('traindemographics.csv')\n",
    "demographic.head()"
   ]
  },
  {
   "cell_type": "markdown",
   "id": "feda9f32",
   "metadata": {},
   "source": [
    "Description of demographic data:\n",
    "- customerid (Primary key used to merge to other data)\n",
    "- birthdate (date of birth of the customer)\n",
    "- bank_account_type (type of primary bank account)\n",
    "- longitude_gps\n",
    "- latitude_gps\n",
    "- bank_name_clients (name of the bank)\n",
    "- bank_branch_clients (location of the branch - not compulsory - so missing in a lot of the cases)\n",
    "- employment_status_clients (type of employment that customer has)\n",
    "- level_of_education_clients (highest level of education)\n"
   ]
  },
  {
   "cell_type": "code",
   "execution_count": null,
   "id": "1834b2a6",
   "metadata": {},
   "outputs": [],
   "source": [
    "performance = pd.read_csv('trainperf.csv')\n",
    "performance.head()"
   ]
  },
  {
   "cell_type": "markdown",
   "id": "a31d8809",
   "metadata": {},
   "source": [
    "Performance data (trainperf.csv) : This is the repeat loan that the customer has taken for which we need to predict the performance of. Basically, we need to predict whether this loan would default given all previous loans and demographics of a customer.\n",
    "Description of data:\n",
    "- customerid (Primary key used to merge to other data)\n",
    "- systemloanid (The id associated with the particular loan. The same customerId can have multiple systemloanid’s for each loan he/she has taken out)\n",
    "- loannumber (The number of the loan that you have to predict)\n",
    "- approveddate (Date that loan was approved)\n",
    "- creationdate (Date that loan application was created)\n",
    "- loanamount (Loan value taken)\n",
    "- totaldue (Total repayment required to settle the loan - this is the capital loan value disbursed +interest and fees)\n",
    "- termdays (Term of loan)\n",
    "- referredby (customerId of the customer that referred this person - is missing, then not referred)\n",
    "- good_bad_flag (good = settled loan on time; bad = did not settled loan on time) - this is the target variable that we need to predict"
   ]
  },
  {
   "cell_type": "code",
   "execution_count": null,
   "id": "a3c84035",
   "metadata": {},
   "outputs": [],
   "source": [
    "previous = pd.read_csv('trainprevloans.csv')\n",
    "previous.head()"
   ]
  },
  {
   "cell_type": "markdown",
   "id": "c0d94e86",
   "metadata": {},
   "source": [
    "Previous loans data (trainprevloans.csv) : This dataset contains all previous loans that the customer had prior to the loan above that we want to predict the performance of. Each loan will have a different systemloanid, but the same customerid for each customer.\n",
    "Description of data:\n",
    "- customerid (Primary key used to merge to other data)\n",
    "- systemloanid (The id associated with the particular loan. The same customerId can have multiple systemloanid’s for each loan he/she has taken out)\n",
    "- loannumber (The number of the loan that you have to predict)\n",
    "- approveddate (Date that loan was approved)\n",
    "- creationdate (Date that loan application was created)\n",
    "- loanamount (Date that loan application was created)\n",
    "- totaldue (Total repayment required to settle the loan - this is the capital loan value disbursed +interest and fees) termdays (Term of loan)\n",
    "- closeddate (Date that the loan was settled)\n",
    "- referredby (customerId of the customer that referred this person - is missing, then not refrerred)\n",
    "- firstduedate (Date of first payment due in cases where the term is longer than 30 days. So in the case where the term is 60+ days - then there are multiple monthly payments due - and this dates reflects the date of the first payment)\n",
    "- firstrepaiddate (Actual date that he/she paid the first payment as defined above)"
   ]
  },
  {
   "cell_type": "code",
   "execution_count": null,
   "id": "fc0fa3f1",
   "metadata": {},
   "outputs": [],
   "source": [
    "customerCheck = demographic.assign(InPerformance=demographic.customerid.isin(performance.customerid), InPrevious=demographic.customerid.isin(previous.customerid))\n",
    "customerCheck = customerCheck[['customerid','InPerformance','InPrevious']]"
   ]
  },
  {
   "cell_type": "code",
   "execution_count": null,
   "id": "e2ab41ba",
   "metadata": {},
   "outputs": [],
   "source": [
    "demographic.assign(InPerformance=demographic.customerid.isin(performance.customerid), InPrevious=demographic.customerid.isin(previous.customerid))\n"
   ]
  },
  {
   "cell_type": "code",
   "execution_count": null,
   "id": "512210e8",
   "metadata": {},
   "outputs": [],
   "source": [
    "customerCheck"
   ]
  },
  {
   "cell_type": "code",
   "execution_count": null,
   "id": "db6d0a1d",
   "metadata": {
    "scrolled": true
   },
   "outputs": [],
   "source": [
    "customerCheck.groupby(['InPerformance','InPrevious']).value_counts()"
   ]
  },
  {
   "cell_type": "code",
   "execution_count": null,
   "id": "7bba7267",
   "metadata": {},
   "outputs": [],
   "source": [
    "demographic.info()"
   ]
  },
  {
   "cell_type": "code",
   "execution_count": null,
   "id": "1d44b3aa",
   "metadata": {},
   "outputs": [],
   "source": [
    "performance.info()"
   ]
  },
  {
   "cell_type": "code",
   "execution_count": null,
   "id": "1ee74436",
   "metadata": {},
   "outputs": [],
   "source": [
    "previous.info()"
   ]
  },
  {
   "cell_type": "code",
   "execution_count": null,
   "id": "b70a0c7c",
   "metadata": {},
   "outputs": [],
   "source": [
    "previous.head()"
   ]
  },
  {
   "cell_type": "code",
   "execution_count": null,
   "id": "282ffbc9",
   "metadata": {},
   "outputs": [],
   "source": [
    "performance.head()"
   ]
  },
  {
   "cell_type": "code",
   "execution_count": null,
   "id": "0694b11b",
   "metadata": {},
   "outputs": [],
   "source": [
    "performance.loc[performance['customerid'] == '8a858e105bd92644015bd9db3a0f3be2']"
   ]
  },
  {
   "cell_type": "code",
   "execution_count": null,
   "id": "6e61910a",
   "metadata": {},
   "outputs": [],
   "source": [
    "previous.loc[previous['customerid'] == '8a858e105bd92644015bd9db3a0f3be2']"
   ]
  },
  {
   "cell_type": "code",
   "execution_count": null,
   "id": "162d2be0",
   "metadata": {},
   "outputs": [],
   "source": [
    "duplicate = demographic[demographic.duplicated()]\n",
    " \n",
    "print(\"Duplicate Rows :\")\n",
    " \n",
    "# Print the resultant Dataframe\n",
    "duplicate"
   ]
  },
  {
   "cell_type": "code",
   "execution_count": null,
   "id": "16d92ac2",
   "metadata": {},
   "outputs": [],
   "source": [
    "demographic.drop_duplicates(inplace=True)"
   ]
  },
  {
   "cell_type": "code",
   "execution_count": null,
   "id": "09a9c883",
   "metadata": {
    "scrolled": true
   },
   "outputs": [],
   "source": [
    "customerCheck = demographic.assign(InPerformance=demographic.customerid.isin(performance.customerid), InPrevious=demographic.customerid.isin(previous.customerid))\n",
    "customerCheck = customerCheck[['customerid','InPerformance','InPrevious']]"
   ]
  },
  {
   "cell_type": "code",
   "execution_count": null,
   "id": "0ccdb1e8",
   "metadata": {},
   "outputs": [],
   "source": [
    "customerCheck.groupby(['InPerformance','InPrevious']).value_counts()\n"
   ]
  },
  {
   "cell_type": "markdown",
   "id": "4f58d88a",
   "metadata": {},
   "source": [
    "Create the first model which would predict for non-new customers based on demographic and previous loans data.\n",
    "Create the second model which predict for new customers based on just demographic data."
   ]
  },
  {
   "cell_type": "markdown",
   "id": "e70358c0",
   "metadata": {},
   "source": [
    "### Determining how the dataframes are going to be concatenated."
   ]
  },
  {
   "cell_type": "markdown",
   "id": "2bef9a17",
   "metadata": {},
   "source": [
    "#### Checking the common columns between the data sets"
   ]
  },
  {
   "cell_type": "markdown",
   "id": "5bb58b68",
   "metadata": {},
   "source": [
    "##### customerid"
   ]
  },
  {
   "cell_type": "markdown",
   "id": "2ebd0eea",
   "metadata": {},
   "source": [
    "Performance dataframe has 18183 entries and previous has 4368 entries."
   ]
  },
  {
   "cell_type": "code",
   "execution_count": null,
   "id": "7c7f4738",
   "metadata": {},
   "outputs": [],
   "source": [
    "performanceids = pd.DataFrame(performance['customerid'])\n",
    "performanceids"
   ]
  },
  {
   "cell_type": "code",
   "execution_count": null,
   "id": "caa63d50",
   "metadata": {},
   "outputs": [],
   "source": [
    "performanceids.groupby('customerid').value_counts().nlargest()"
   ]
  },
  {
   "cell_type": "code",
   "execution_count": null,
   "id": "b50e91aa",
   "metadata": {},
   "outputs": [],
   "source": [
    "previousids = pd.DataFrame(previous['customerid'])\n",
    "previousids"
   ]
  },
  {
   "cell_type": "code",
   "execution_count": null,
   "id": "245810ba",
   "metadata": {},
   "outputs": [],
   "source": [
    "previousids.groupby('customerid').value_counts().nlargest()"
   ]
  },
  {
   "cell_type": "markdown",
   "id": "f7039683",
   "metadata": {},
   "source": [
    "From the analysis above, one can see that the most times a customer appears in the performance data is once, whereas the most times a customer appears in the previous data is 26 times. This means there is a one to many relationship between the two dataframes with previous being on the many side. This means it is more ideal to add the 'performance' dataframe to the previous dataframe."
   ]
  },
  {
   "cell_type": "markdown",
   "id": "f549db45",
   "metadata": {},
   "source": [
    "##### adding the performance dataframe to the previous loans dataframe"
   ]
  },
  {
   "cell_type": "markdown",
   "id": "c60a2f72",
   "metadata": {},
   "source": [
    "Between the two dataframes,there are a number of similar columns. To add the two dataframes together, the column names of the incoming dataframe,'performance', will be changed to be able to distinguish the columns."
   ]
  },
  {
   "cell_type": "code",
   "execution_count": null,
   "id": "10527f0f",
   "metadata": {},
   "outputs": [],
   "source": [
    "performance.columns"
   ]
  },
  {
   "cell_type": "code",
   "execution_count": null,
   "id": "a2ea0799",
   "metadata": {},
   "outputs": [],
   "source": [
    "previous.columns"
   ]
  },
  {
   "cell_type": "markdown",
   "id": "1c0f7f86",
   "metadata": {},
   "source": [
    "From the cells above, we can see the similar columns: \n",
    "customerid, systemloanid,loannumber,approveddate,creationdate,loanamount,totaldue,termdays and referred by. \n",
    "All of these columns,apart from customerid and systemloanid, will be renamed now.\n",
    "Customerid and systemloanid will not be renamed because they are going to be dropped ahead."
   ]
  },
  {
   "cell_type": "code",
   "execution_count": null,
   "id": "df7cba89",
   "metadata": {},
   "outputs": [],
   "source": [
    "performance.columns = ['customerid','systemloanid','perf_loannumber','perf_approveddate','perf_creationdate','perf_loanamount','perf_totaldue','perf_termdays','perf_referredby','good_bad_flag']"
   ]
  },
  {
   "cell_type": "code",
   "execution_count": null,
   "id": "f81d3564",
   "metadata": {},
   "outputs": [],
   "source": [
    "performance.columns"
   ]
  },
  {
   "cell_type": "code",
   "execution_count": null,
   "id": "219b2aae",
   "metadata": {},
   "outputs": [],
   "source": [
    "previous.info()"
   ]
  },
  {
   "cell_type": "code",
   "execution_count": null,
   "id": "2950612e",
   "metadata": {},
   "outputs": [],
   "source": [
    "previousCustomers = pd.merge(previous, performance, on='customerid')"
   ]
  },
  {
   "cell_type": "code",
   "execution_count": null,
   "id": "efbfafed",
   "metadata": {},
   "outputs": [],
   "source": [
    "previousCustomers"
   ]
  },
  {
   "cell_type": "code",
   "execution_count": null,
   "id": "fa663874",
   "metadata": {},
   "outputs": [],
   "source": [
    "previousCustomers.info()"
   ]
  },
  {
   "cell_type": "markdown",
   "id": "5aa2e8af",
   "metadata": {},
   "source": [
    "Dropping the systemloanid columns"
   ]
  },
  {
   "cell_type": "code",
   "execution_count": null,
   "id": "f5c46aee",
   "metadata": {},
   "outputs": [],
   "source": [
    "previousCustomers.drop(['systemloanid_x','systemloanid_y'],axis=1,inplace=True)\n",
    "previousCustomers.info()"
   ]
  },
  {
   "cell_type": "code",
   "execution_count": null,
   "id": "27dafe16",
   "metadata": {},
   "outputs": [],
   "source": [
    "previousCustomers = pd.merge(previousCustomers, demographic, on='customerid')"
   ]
  },
  {
   "cell_type": "markdown",
   "id": "9416acbb",
   "metadata": {},
   "source": [
    "##### adding demographic data to previous customers dataframe"
   ]
  },
  {
   "cell_type": "code",
   "execution_count": null,
   "id": "0afb0b24",
   "metadata": {},
   "outputs": [],
   "source": [
    "previousCustomers.info()"
   ]
  },
  {
   "cell_type": "markdown",
   "id": "4c0111c2",
   "metadata": {},
   "source": [
    "##### looking at the data contained in the columns now to determine what columns will be used to train the model"
   ]
  },
  {
   "cell_type": "markdown",
   "id": "d1055f46",
   "metadata": {},
   "source": [
    "*columns containing non-numerical data*"
   ]
  },
  {
   "cell_type": "code",
   "execution_count": null,
   "id": "f95fe640",
   "metadata": {},
   "outputs": [],
   "source": [
    "categorical = [var for var in previousCustomers.columns if previousCustomers[var].dtype=='O']\n",
    "\n",
    "print('There are {} categorical variables \\n'.format(len(categorical)))\n",
    "\n",
    "print('They are: ', categorical)"
   ]
  },
  {
   "cell_type": "code",
   "execution_count": null,
   "id": "d9b31812",
   "metadata": {},
   "outputs": [],
   "source": [
    "previousCustomers[categorical].head()"
   ]
  },
  {
   "cell_type": "markdown",
   "id": "458f6564",
   "metadata": {},
   "source": [
    "##### customer id column: Primary key used to merge to other data"
   ]
  },
  {
   "cell_type": "markdown",
   "id": "2f3b7aab",
   "metadata": {},
   "source": [
    "customer id column has an averagely high cardinality and is used to uniquely identify the customers. This feature will not be used for model training."
   ]
  },
  {
   "cell_type": "markdown",
   "id": "7ce9caa6",
   "metadata": {},
   "source": [
    "##### approved date column : Date that loan was approved"
   ]
  },
  {
   "cell_type": "markdown",
   "id": "29d7acf5",
   "metadata": {},
   "source": [
    "approved date column has a high cardinality. It will not be used because we don't believe the approval data for a loan holds a significance towards whether a loan may be bad or good."
   ]
  },
  {
   "cell_type": "markdown",
   "id": "98632f87",
   "metadata": {},
   "source": [
    "##### creation date column : Date that loan application was created"
   ]
  },
  {
   "cell_type": "markdown",
   "id": "6236b21f",
   "metadata": {},
   "source": [
    "creation date column has a high cardinality. It will not be selected as feature to train the model because we do not believe the creation date for a loan holds a significance towards whether a loan may be bad or good"
   ]
  },
  {
   "cell_type": "markdown",
   "id": "d662a534",
   "metadata": {},
   "source": [
    "##### closed date column : Date that the loan was settled"
   ]
  },
  {
   "cell_type": "markdown",
   "id": "9c1895eb",
   "metadata": {},
   "source": [
    "closed date column has a high cardinality. Since we have a loan creation date, we can arrive at how long the loan was active until it was settled. This time period can then be used as a new feature to train the model. Let's look more at the closed dates and see if there is a relationship  between the closing dates and whether a loan may be good or bad."
   ]
  },
  {
   "cell_type": "code",
   "execution_count": null,
   "id": "51d3a2c7",
   "metadata": {},
   "outputs": [],
   "source": [
    "closedDates = previousCustomers[['closeddate','good_bad_flag']]\n",
    "closedDates"
   ]
  },
  {
   "cell_type": "markdown",
   "id": "a7a0061a",
   "metadata": {},
   "source": [
    " going to break down the date and individual components, ie year, month and day and time. Then proceed to gain insights into the relationship between date/time and bad/good loans"
   ]
  },
  {
   "cell_type": "code",
   "execution_count": null,
   "id": "e9656bb4",
   "metadata": {},
   "outputs": [],
   "source": [
    "closedDates['closeddate'] = pd.to_datetime(closedDates['closeddate'])"
   ]
  },
  {
   "cell_type": "code",
   "execution_count": null,
   "id": "fad82277",
   "metadata": {},
   "outputs": [],
   "source": [
    "closedDates.info()"
   ]
  },
  {
   "cell_type": "code",
   "execution_count": null,
   "id": "f1675557",
   "metadata": {},
   "outputs": [],
   "source": [
    "closedDates['year'] = closedDates['closeddate'].dt.year\n",
    "closedDates.head()"
   ]
  },
  {
   "cell_type": "code",
   "execution_count": null,
   "id": "90bf581e",
   "metadata": {},
   "outputs": [],
   "source": [
    "closedDates['month'] = closedDates['closeddate'].dt.month\n",
    "closedDates.head()"
   ]
  },
  {
   "cell_type": "code",
   "execution_count": null,
   "id": "9e787dd3",
   "metadata": {},
   "outputs": [],
   "source": [
    "closedDates['day'] = closedDates['closeddate'].dt.day\n",
    "closedDates.head()"
   ]
  },
  {
   "cell_type": "code",
   "execution_count": null,
   "id": "3b706aaf",
   "metadata": {},
   "outputs": [],
   "source": [
    "closedDates['hourOfDay'] = closedDates['closeddate'].dt.hour\n",
    "closedDates.head()"
   ]
  },
  {
   "cell_type": "code",
   "execution_count": null,
   "id": "6eaa6943",
   "metadata": {},
   "outputs": [],
   "source": [
    "closedDates['hourOfDay'].unique()"
   ]
  },
  {
   "cell_type": "markdown",
   "id": "b8f7926c",
   "metadata": {},
   "source": [
    "the hour is recorded in 24 hour clock which is desirable so we can differentiate between the times i.e 3 in the morning and 3 in the evening."
   ]
  },
  {
   "cell_type": "code",
   "execution_count": null,
   "id": "7edba901",
   "metadata": {},
   "outputs": [],
   "source": [
    "year_group = closedDates.groupby(['year'])['good_bad_flag'].value_counts()\n",
    "year_group"
   ]
  },
  {
   "cell_type": "code",
   "execution_count": null,
   "id": "270486e9",
   "metadata": {},
   "outputs": [],
   "source": [
    "\n",
    "#plt.subplot(4,1,1)\n",
    "#yearLook = closedDates[['year', 'good_bad_flag']]\n",
    "closedDates.groupby(['year','good_bad_flag']).size().unstack().plot(kind='bar',stacked=True)\n",
    "plt.xlabel('Years')\n",
    "plt.ylabel('Number of bad/good loans')\n",
    "\n",
    "plt.title('A look at the number of good and bad loans through the years 2016 and 2017')\n",
    "\n",
    "#plt.subplot(4,1,2)\n",
    "#plt.title('A look at the number of good and bad loans throughout the years')\n",
    "\n",
    "f = plt.gcf()\n",
    "f.set_figwidth(5) "
   ]
  },
  {
   "cell_type": "code",
   "execution_count": null,
   "id": "616bf68e",
   "metadata": {},
   "outputs": [],
   "source": [
    "closedDates.groupby(['month','good_bad_flag']).size().unstack().plot(kind='bar',stacked=True,rot=0)\n",
    "plt.xlabel('Months of the year')\n",
    "plt.ylabel('Number of bad/good loans')\n",
    "plt.title('A look at the number of good and bad loans through the months of the year')\n",
    "\n",
    "f = plt.gcf()\n",
    "f.set_figwidth(5) "
   ]
  },
  {
   "cell_type": "code",
   "execution_count": null,
   "id": "aadc6862",
   "metadata": {},
   "outputs": [],
   "source": [
    "closedDates.groupby(['day','good_bad_flag']).size().unstack().plot(kind='bar',stacked=True,rot=0)\n",
    "plt.xlabel('Months of the year')\n",
    "plt.ylabel('Number of bad/good loans')\n",
    "plt.title('A look at the number of good and bad loans through the days of a month')\n",
    "\n",
    "f = plt.gcf()\n",
    "f.set_figwidth(15) "
   ]
  },
  {
   "cell_type": "code",
   "execution_count": null,
   "id": "b94a838a",
   "metadata": {},
   "outputs": [],
   "source": [
    "plt.figure(figsize=(15,30))\n",
    "closedDates.groupby(['hourOfDay','good_bad_flag']).size().unstack().plot(kind='bar',stacked=True)\n",
    "plt.xlabel('hours')\n",
    "plt.ylabel('Number of bad/good loans')\n",
    "\n",
    "plt.title('A look at the number of good and bad loans through the hours of day')\n",
    "\n",
    "f = plt.gcf()\n",
    "f.set_figwidth(15) "
   ]
  },
  {
   "cell_type": "markdown",
   "id": "ecdbff61",
   "metadata": {},
   "source": [
    "I do not think that the year serves as a significant feature to train this model and therefore it will not be used going forward. The months, day and hour of the day serve as good features to use to train this model."
   ]
  },
  {
   "cell_type": "code",
   "execution_count": null,
   "id": "f097a853",
   "metadata": {},
   "outputs": [],
   "source": [
    "previousCustomers.head()"
   ]
  },
  {
   "cell_type": "markdown",
   "id": "6a689262",
   "metadata": {},
   "source": [
    "Let's also look at the duration of the lifetime of the loan i.e from when it was created to when it was fully paid back. "
   ]
  },
  {
   "cell_type": "code",
   "execution_count": null,
   "id": "424810fd",
   "metadata": {},
   "outputs": [],
   "source": [
    "previousCustomers['closeddate'] = pd.to_datetime(previousCustomers['closeddate'])\n",
    "previousCustomers['creationdate'] = pd.to_datetime(previousCustomers['creationdate'])"
   ]
  },
  {
   "cell_type": "code",
   "execution_count": null,
   "id": "bcd71789",
   "metadata": {},
   "outputs": [],
   "source": [
    "previousCustomers['loanlifewithdelta'] = ((previousCustomers.closeddate - previousCustomers.creationdate)/np.timedelta64(1, 'D'))\n",
    "previousCustomers['loanlifenodelta'] = previousCustomers.closeddate - previousCustomers.creationdate\n",
    "previousCustomers.head()"
   ]
  },
  {
   "cell_type": "markdown",
   "id": "78d3a627",
   "metadata": {},
   "source": [
    "We will use the loanlifewithdelta column as a new feature to train our model with"
   ]
  },
  {
   "cell_type": "code",
   "execution_count": null,
   "id": "35b6faab",
   "metadata": {},
   "outputs": [],
   "source": [
    "previousCustomers.drop(['loanlifenodelta'],axis=1, inplace=True)"
   ]
  },
  {
   "cell_type": "markdown",
   "id": "68ffaece",
   "metadata": {},
   "source": [
    "We are going to list out the columns that have been selected to train our model to keep track of them as the notebook progresses:\n",
    "1. period take to settle the loan(lifetime of loan): previousCustomers[loanlifewithdelta]"
   ]
  },
  {
   "cell_type": "markdown",
   "id": "eb490e1b",
   "metadata": {},
   "source": [
    "##### referredby column"
   ]
  },
  {
   "cell_type": "code",
   "execution_count": null,
   "id": "70e1979c",
   "metadata": {},
   "outputs": [],
   "source": [
    "previousCustomers['referredby'].isnull().sum()"
   ]
  },
  {
   "cell_type": "code",
   "execution_count": null,
   "id": "b083c9e0",
   "metadata": {},
   "outputs": [],
   "source": [
    "len(previousCustomers['referredby'].unique())"
   ]
  },
  {
   "cell_type": "code",
   "execution_count": null,
   "id": "4caadf67",
   "metadata": {},
   "outputs": [],
   "source": [
    "previousCustomers['referredby'].unique()"
   ]
  },
  {
   "cell_type": "markdown",
   "id": "5fd6bb6c",
   "metadata": {},
   "source": [
    "The referredby column has a high cardinality and the column value doesn't particularly give any relevance to the model. The details of the referee may be useful though and so will be considered."
   ]
  },
  {
   "cell_type": "markdown",
   "id": "d2930ed4",
   "metadata": {},
   "source": [
    "##### first_due_date and first_repaid_date columns"
   ]
  },
  {
   "cell_type": "markdown",
   "id": "a0fdc92a",
   "metadata": {},
   "source": [
    "This columns individually don't provide significant features but when used together might prove to be more useful.\n",
    "The difference between the two columns can tell us if a customer was prompt on making their payments."
   ]
  },
  {
   "cell_type": "code",
   "execution_count": null,
   "id": "02931449",
   "metadata": {},
   "outputs": [],
   "source": [
    "loanrepayment = previousCustomers[['firstduedate','firstrepaiddate','good_bad_flag']]"
   ]
  },
  {
   "cell_type": "code",
   "execution_count": null,
   "id": "286e4792",
   "metadata": {},
   "outputs": [],
   "source": [
    "loanrepayment.head()"
   ]
  },
  {
   "cell_type": "code",
   "execution_count": null,
   "id": "27e59cdb",
   "metadata": {},
   "outputs": [],
   "source": [
    "loanrepayment['firstduedate'] = pd.to_datetime(loanrepayment['firstduedate'])\n",
    "loanrepayment['firstrepaiddate'] = pd.to_datetime(loanrepayment['firstrepaiddate'])"
   ]
  },
  {
   "cell_type": "code",
   "execution_count": null,
   "id": "ac1c1ddb",
   "metadata": {},
   "outputs": [],
   "source": [
    "loanrepayment['firstrepaymentlapsewithdelta'] = ((loanrepayment.firstduedate - loanrepayment.firstrepaiddate)/np.timedelta64(1, 'D'))\n",
    "loanrepayment['firstrepaymentlapsewithnodelta'] = loanrepayment.firstduedate - loanrepayment.firstrepaiddate\n",
    "loanrepayment.head()"
   ]
  },
  {
   "cell_type": "markdown",
   "id": "aa1220e7",
   "metadata": {},
   "source": [
    "Updating selected features:\n",
    "1. period take to settle the loan(lifetime of loan): previousCustomers[loanlifewithdelta]\n",
    "2. first repayment day status: loanrepayment[firstrepaymentlapsewithdelta]"
   ]
  },
  {
   "cell_type": "code",
   "execution_count": null,
   "id": "1fb50f75",
   "metadata": {},
   "outputs": [],
   "source": [
    "##thinking of having a column showing the days and another column saying whether it was before or after the due date"
   ]
  },
  {
   "cell_type": "markdown",
   "id": "3cd4b447",
   "metadata": {},
   "source": [
    "The next cells are looking at the data from the performance dataframe. Those columns that were also present in the previous dataframe and were dropped as features above, will also be dropped as features below. "
   ]
  },
  {
   "cell_type": "markdown",
   "id": "cc43ea12",
   "metadata": {},
   "source": [
    "##### perf_referredby"
   ]
  },
  {
   "cell_type": "code",
   "execution_count": null,
   "id": "502b81bc",
   "metadata": {},
   "outputs": [],
   "source": [
    "len(previousCustomers['perf_referredby'].unique())"
   ]
  },
  {
   "cell_type": "code",
   "execution_count": null,
   "id": "7beb179e",
   "metadata": {},
   "outputs": [],
   "source": [
    "previousCustomers['perf_referredby'].isnull().sum()"
   ]
  },
  {
   "cell_type": "markdown",
   "id": "99754d4b",
   "metadata": {},
   "source": [
    "There are a number of null values within this columns and we cannot easily replace the missing values. This column will therefore not be used going forward"
   ]
  },
  {
   "cell_type": "markdown",
   "id": "798b2f5d",
   "metadata": {},
   "source": [
    "##### birthdate"
   ]
  },
  {
   "cell_type": "markdown",
   "id": "bb7758c4",
   "metadata": {},
   "source": [
    "This column may not be significant as it is for training our model. It may be better to get the actual age of the customers rather than using there birthdates."
   ]
  },
  {
   "cell_type": "markdown",
   "id": "02bf6699",
   "metadata": {},
   "source": [
    "So let us get the actual ages of the customers."
   ]
  },
  {
   "cell_type": "code",
   "execution_count": null,
   "id": "244068db",
   "metadata": {},
   "outputs": [],
   "source": [
    "#converting birthdate column to datetime\n",
    "previousCustomers['birthdate'] = pd.to_datetime(previousCustomers['birthdate'])"
   ]
  },
  {
   "cell_type": "code",
   "execution_count": null,
   "id": "5b9602fa",
   "metadata": {},
   "outputs": [],
   "source": [
    "customerAge = previousCustomers[['birthdate','good_bad_flag']]\n",
    "customerAge.head()"
   ]
  },
  {
   "cell_type": "code",
   "execution_count": null,
   "id": "d6db0cb5",
   "metadata": {},
   "outputs": [],
   "source": [
    "currentDate = date.today()"
   ]
  },
  {
   "cell_type": "code",
   "execution_count": null,
   "id": "b8ba6998",
   "metadata": {},
   "outputs": [],
   "source": [
    "currentDate"
   ]
  },
  {
   "cell_type": "code",
   "execution_count": null,
   "id": "5ed3ae92",
   "metadata": {},
   "outputs": [],
   "source": [
    "customerAge['age'] = round(((pd.datetime.now()- customerAge['birthdate'])/np.timedelta64(1, 'Y')),1)"
   ]
  },
  {
   "cell_type": "code",
   "execution_count": null,
   "id": "24990367",
   "metadata": {},
   "outputs": [],
   "source": [
    "customerAge.tail()"
   ]
  },
  {
   "cell_type": "code",
   "execution_count": null,
   "id": "16fce0a7",
   "metadata": {},
   "outputs": [],
   "source": [
    "customerAge.loc[customerAge['good_bad_flag']=='Good','flag'] = 0\n",
    "customerAge.loc[customerAge['good_bad_flag']=='Bad','flag'] = 1\n",
    "customerAge.head()"
   ]
  },
  {
   "cell_type": "code",
   "execution_count": null,
   "id": "5a939031",
   "metadata": {},
   "outputs": [],
   "source": [
    "badLoans = customerAge.loc[customerAge['good_bad_flag'] == 'Bad']"
   ]
  },
  {
   "cell_type": "code",
   "execution_count": null,
   "id": "6119764e",
   "metadata": {},
   "outputs": [],
   "source": [
    "badLoans.to_csv('agesAndBadLoans.csv')"
   ]
  },
  {
   "cell_type": "code",
   "execution_count": null,
   "id": "aa42c9c0",
   "metadata": {},
   "outputs": [],
   "source": [
    "customerAge.to_csv('allLoansAndAges.csv')"
   ]
  },
  {
   "attachments": {
    "people%20graph-1.jpg": {
     "image/jpeg": "[encoded data removed]"
    }
   },
   "cell_type": "markdown",
   "id": "d4d52b32",
   "metadata": {},
   "source": [
    "![people%20graph-1.jpg](attachment:people%20graph-1.jpg)"
   ]
  },
  {
   "cell_type": "markdown",
   "id": "1ab397a5",
   "metadata": {},
   "source": [
    "add graph showing good loans"
   ]
  },
  {
   "cell_type": "markdown",
   "id": "205a5c4c",
   "metadata": {},
   "source": [
    "so we shall use the ages of people to train our model instead of their birthdate"
   ]
  },
  {
   "cell_type": "markdown",
   "id": "1bbbe027",
   "metadata": {},
   "source": [
    "Updating selected features:\n",
    "1. period take to settle the loan(lifetime of loan): previousCustomers[loanlifewithdelta]\n",
    "2. first repayment day status: loanrepayment[firstrepaymentlapsewithdelta]\n",
    "3. ages of the customers: birthdate[age]"
   ]
  },
  {
   "cell_type": "markdown",
   "id": "ba239066",
   "metadata": {},
   "source": [
    "##### bank account type"
   ]
  },
  {
   "cell_type": "code",
   "execution_count": null,
   "id": "63db010e",
   "metadata": {},
   "outputs": [],
   "source": [
    "len(previousCustomers['bank_account_type'].unique())"
   ]
  },
  {
   "cell_type": "code",
   "execution_count": null,
   "id": "0338f4b7",
   "metadata": {},
   "outputs": [],
   "source": [
    "testdemo = pd.read_csv('testdemographics.csv')"
   ]
  },
  {
   "cell_type": "code",
   "execution_count": null,
   "id": "eb7e10f5",
   "metadata": {},
   "outputs": [],
   "source": [
    "len(testdemo['bank_account_type'].unique())"
   ]
  },
  {
   "cell_type": "code",
   "execution_count": null,
   "id": "ff4f5711",
   "metadata": {},
   "outputs": [],
   "source": [
    "previousCustomers['bank_account_type'].isnull().sum()"
   ]
  },
  {
   "cell_type": "code",
   "execution_count": null,
   "id": "86a48ce0",
   "metadata": {},
   "outputs": [],
   "source": [
    "previousCustomers['bank_account_type'].unique()"
   ]
  },
  {
   "cell_type": "markdown",
   "id": "e29badc1",
   "metadata": {},
   "source": [
    "This feature shall be used to train our model"
   ]
  },
  {
   "cell_type": "markdown",
   "id": "6621e315",
   "metadata": {},
   "source": [
    "Updating selected features:\n",
    "1. period take to settle the loan(lifetime of loan): previousCustomers[loanlifewithdelta]\n",
    "2. first repayment day status: loanrepayment[firstrepaymentlapsewithdelta]\n",
    "3. ages of the customers: birthdate[age]\n",
    "4. the type of bank account: previousCustomers[bank_account_type]"
   ]
  },
  {
   "cell_type": "markdown",
   "id": "8490f62c",
   "metadata": {},
   "source": [
    "##### bank_name_clients"
   ]
  },
  {
   "cell_type": "code",
   "execution_count": null,
   "id": "0636453f",
   "metadata": {},
   "outputs": [],
   "source": [
    "previousCustomers['bank_name_clients'].unique()"
   ]
  },
  {
   "cell_type": "code",
   "execution_count": null,
   "id": "fc0f220d",
   "metadata": {},
   "outputs": [],
   "source": [
    "len(previousCustomers['bank_name_clients'].unique())"
   ]
  },
  {
   "cell_type": "code",
   "execution_count": null,
   "id": "aa4ea6b2",
   "metadata": {},
   "outputs": [],
   "source": [
    "previousCustomers['bank_name_clients'].isnull().sum()"
   ]
  },
  {
   "cell_type": "code",
   "execution_count": null,
   "id": "88cc19e2",
   "metadata": {},
   "outputs": [],
   "source": [
    "len(testdemo['bank_name_clients'].unique())"
   ]
  },
  {
   "cell_type": "markdown",
   "id": "639d75ba",
   "metadata": {},
   "source": [
    "This column will be used to train the model"
   ]
  },
  {
   "cell_type": "markdown",
   "id": "7fec18b1",
   "metadata": {},
   "source": [
    "Updating selected features:\n",
    "1. period take to settle the loan(lifetime of loan): previousCustomers[loanlifewithdelta]\n",
    "2. first repayment day status: loanrepayment[firstrepaymentlapsewithdelta]\n",
    "3. ages of the customers: birthdate[age]\n",
    "4. the type of bank account: previousCustomers[bank_account_type]\n",
    "5. the bank name of the clients: previousCustomers[bank_name_clients]"
   ]
  },
  {
   "cell_type": "markdown",
   "id": "94ea76fe",
   "metadata": {},
   "source": [
    "We can also have a look the bad loans and good loans according to the different banks"
   ]
  },
  {
   "cell_type": "code",
   "execution_count": null,
   "id": "2ad28f7c",
   "metadata": {},
   "outputs": [],
   "source": [
    "bankStats = previousCustomers[['bank_name_clients','good_bad_flag']]"
   ]
  },
  {
   "cell_type": "code",
   "execution_count": null,
   "id": "78b78632",
   "metadata": {},
   "outputs": [],
   "source": [
    "\n",
    "#plt.subplot(4,1,1)\n",
    "#yearLook = closedDates[['year', 'good_bad_flag']]\n",
    "bankStats.groupby(['bank_name_clients','good_bad_flag']).size().unstack().plot(kind='bar',stacked=True,rot=45)\n",
    "plt.xlabel('Banks')\n",
    "plt.ylabel('Number of bad/good loans')\n",
    "\n",
    "plt.title('A look at the number of good and bad loans in different banks')\n",
    "\n",
    "#plt.subplot(4,1,2)\n",
    "#plt.title('A look at the number of good and bad loans throughout the years')\n",
    "\n",
    "f = plt.gcf()\n",
    "f.set_figwidth(15) "
   ]
  },
  {
   "cell_type": "code",
   "execution_count": null,
   "id": "e3f4329d",
   "metadata": {},
   "outputs": [],
   "source": [
    "# FIND THE AGE RANGE OF THE PEOPLE WHO ARE GOING TO THE DIFFERENT BANKS,\n",
    "#use pivot table and see the most common bank in the \n",
    "#age range and see if there's a connection"
   ]
  },
  {
   "cell_type": "markdown",
   "id": "fb5b38c9",
   "metadata": {},
   "source": [
    "##### bank branch clients"
   ]
  },
  {
   "cell_type": "code",
   "execution_count": null,
   "id": "c64218c2",
   "metadata": {},
   "outputs": [],
   "source": [
    "previousCustomers['bank_branch_clients'].unique()"
   ]
  },
  {
   "cell_type": "code",
   "execution_count": null,
   "id": "7801186b",
   "metadata": {},
   "outputs": [],
   "source": [
    "previousCustomers['bank_branch_clients'].isnull().sum()"
   ]
  },
  {
   "cell_type": "markdown",
   "id": "5c3e46cd",
   "metadata": {},
   "source": [
    "This column will not be used to train our model"
   ]
  },
  {
   "cell_type": "markdown",
   "id": "3c39c3ae",
   "metadata": {},
   "source": [
    "##### employment status clients"
   ]
  },
  {
   "cell_type": "code",
   "execution_count": null,
   "id": "d39dcfdf",
   "metadata": {},
   "outputs": [],
   "source": [
    "previousCustomers['employment_status_clients'].unique()"
   ]
  },
  {
   "cell_type": "code",
   "execution_count": null,
   "id": "c243a1af",
   "metadata": {},
   "outputs": [],
   "source": [
    "testdemo['employment_status_clients'].unique()"
   ]
  },
  {
   "cell_type": "code",
   "execution_count": null,
   "id": "831b0b27",
   "metadata": {},
   "outputs": [],
   "source": [
    "previousCustomers['employment_status_clients'].isnull().sum()"
   ]
  },
  {
   "cell_type": "code",
   "execution_count": null,
   "id": "3ff9dafe",
   "metadata": {},
   "outputs": [],
   "source": [
    "previousCustomers['employment_status_clients'].fillna(\"Unemployed\", inplace=True)"
   ]
  },
  {
   "cell_type": "markdown",
   "id": "6c24af77",
   "metadata": {},
   "source": [
    "Updating selected features:\n",
    "1. closed date month: closedDates[month]\n",
    "2. closed date day: closedDates[day]\n",
    "3. closed date hour of day: closedDates[hourOfDay]\n",
    "4. period take to settle the loan(lifetime of loan): previousCustomers[loanlifewithdelta]\n",
    "5. first repayment day status: loanrepayment[firstrepaymentlapsewithdelta]\n",
    "6. ages of the customers: birthdate[age]\n",
    "7. the type of bank account: previousCustomers[bank_account_type]\n",
    "8. the bank name of the clients: previousCustomers[bank_name_clients]\n",
    "9. the employment status of clients: previousCustomers[employment_status]"
   ]
  },
  {
   "cell_type": "markdown",
   "id": "57bd2fb5",
   "metadata": {},
   "source": [
    "We can also see how the number of bad and good loans relates to a person's employment status"
   ]
  },
  {
   "cell_type": "code",
   "execution_count": null,
   "id": "db3af6b0",
   "metadata": {},
   "outputs": [],
   "source": [
    "jobstatus = previousCustomers[['employment_status_clients','good_bad_flag']]"
   ]
  },
  {
   "cell_type": "code",
   "execution_count": null,
   "id": "7446c7cc",
   "metadata": {},
   "outputs": [],
   "source": [
    "\n",
    "#plt.subplot(4,1,1)\n",
    "#yearLook = closedDates[['year', 'good_bad_flag']]\n",
    "jobstatus.groupby(['employment_status_clients','good_bad_flag']).size().unstack().plot(kind='bar',stacked=True,rot=0)\n",
    "plt.xlabel('Employment status')\n",
    "plt.ylabel('Number of bad/good loans')\n",
    "\n",
    "plt.title('A look at the number of good and bad loans for different employment statuses')\n",
    "\n",
    "#plt.subplot(4,1,2)\n",
    "#plt.title('A look at the number of good and bad loans throughout the years')\n",
    "\n",
    "f = plt.gcf()\n",
    "f.set_figwidth(15) "
   ]
  },
  {
   "cell_type": "markdown",
   "id": "58bbf6b7",
   "metadata": {},
   "source": [
    "##### level of education of clients"
   ]
  },
  {
   "cell_type": "code",
   "execution_count": null,
   "id": "05ea49ed",
   "metadata": {},
   "outputs": [],
   "source": [
    "previousCustomers['level_of_education_clients'].unique()"
   ]
  },
  {
   "cell_type": "code",
   "execution_count": null,
   "id": "1cbc23fc",
   "metadata": {},
   "outputs": [],
   "source": [
    "previousCustomers['level_of_education_clients'].isnull().sum()"
   ]
  },
  {
   "cell_type": "markdown",
   "id": "fbf919b0",
   "metadata": {},
   "source": [
    "The number of uneducated Nigerians is actually large and therefore it is safe to assume those that have no level of education selected are not. Therefore the missing values will be replaced with No-Education-Level"
   ]
  },
  {
   "cell_type": "code",
   "execution_count": null,
   "id": "7d3ddf06",
   "metadata": {},
   "outputs": [],
   "source": [
    "previousCustomers['level_of_education_clients'].fillna('No-Education-Level', inplace=True)"
   ]
  },
  {
   "cell_type": "code",
   "execution_count": null,
   "id": "73f2cb6a",
   "metadata": {},
   "outputs": [],
   "source": [
    "#encoding the level of education\n",
    "level_of_education = pd.get_dummies(previousCustomers.level_of_education_clients, drop_first=True)\n",
    "level_of_education"
   ]
  },
  {
   "cell_type": "markdown",
   "id": "64f4b59d",
   "metadata": {},
   "source": [
    "Updating selected features:\n",
    "1. closed date month: closedDates[month]\n",
    "2. closed date day: closedDates[day]\n",
    "3. closed date hour of day: closedDates[hourOfDay]\n",
    "4. period take to settle the loan(lifetime of loan): previousCustomers[loanlifewithdelta]\n",
    "5. first repayment day status: loanrepayment[firstrepaymentlapsewithdelta]\n",
    "6. ages of the customers: birthdate[age]\n",
    "7. the type of bank account: previousCustomers[bank_account_type]\n",
    "8. the bank name of the clients: previousCustomers[bank_name_clients]\n",
    "9. the employment status of clients: previousCustomers[employment_status]\n",
    "10. the level of education of clients: previousCustomers[level_of_education_clients]"
   ]
  },
  {
   "cell_type": "markdown",
   "id": "a8feeb91",
   "metadata": {},
   "source": [
    "We can still look at the how the level of education plays out in the matter of bad and good loans"
   ]
  },
  {
   "cell_type": "code",
   "execution_count": null,
   "id": "8fed2148",
   "metadata": {},
   "outputs": [],
   "source": [
    "educationlevel = previousCustomers[['level_of_education_clients','good_bad_flag']]"
   ]
  },
  {
   "cell_type": "code",
   "execution_count": null,
   "id": "6a645ec2",
   "metadata": {},
   "outputs": [],
   "source": [
    "\n",
    "#plt.subplot(4,1,1)\n",
    "#yearLook = closedDates[['year', 'good_bad_flag']]\n",
    "educationlevel.groupby(['level_of_education_clients','good_bad_flag']).size().unstack().plot(kind='bar',stacked=True,rot=0)\n",
    "plt.xlabel('Level of education')\n",
    "plt.ylabel('Number of bad/good loans')\n",
    "\n",
    "plt.title('A look at the number of good and bad loans for different employment statuses')\n",
    "\n",
    "#plt.subplot(4,1,2)\n",
    "#plt.title('A look at the number of good and bad loans throughout the years')\n",
    "\n",
    "f = plt.gcf()\n",
    "f.set_figwidth(15) "
   ]
  },
  {
   "cell_type": "markdown",
   "id": "f2167c35",
   "metadata": {},
   "source": [
    "So we have gone through the non-numerical features of our data and have selected the following columns as features to train our model with:\n",
    "1. period take to settle the loan(lifetime of loan): previousCustomers[loanlifewithdelta]\n",
    "2. first repayment day status: loanrepayment[firstrepaymentlapsewithdelta]\n",
    "3. ages of the customers: birthdate[age]\n",
    "4. the type of bank account: previousCustomers[bank_account_type]\n",
    "5. the bank name of the clients: previousCustomers[bank_name_clients]\n",
    "6. the level of education of clients: previousCustomers[level_of_education_clients]"
   ]
  },
  {
   "cell_type": "markdown",
   "id": "a823515e",
   "metadata": {},
   "source": [
    "#### Now to look at the numerical columns"
   ]
  },
  {
   "cell_type": "code",
   "execution_count": null,
   "id": "92ce7d24",
   "metadata": {},
   "outputs": [],
   "source": [
    "numerical = [var for var in previousCustomers.columns if previousCustomers[var].dtype!='O']\n",
    "\n",
    "print('There are {} numerical variabes \\n'.format(len(numerical)))\n",
    "\n",
    "print('They are: ', numerical)"
   ]
  },
  {
   "cell_type": "markdown",
   "id": "751293bd",
   "metadata": {},
   "source": [
    "We are going to ignore creationdate, closeddate, birthdate, loanlifewithdelta and loanlifewithnodelata as these have been dealt with and discussed while looking at the categorical features."
   ]
  },
  {
   "cell_type": "code",
   "execution_count": null,
   "id": "d76c8975",
   "metadata": {},
   "outputs": [],
   "source": [
    "numColumns= previousCustomers[['loannumber','loanamount','totaldue','termdays','closeddate','perf_loannumber','perf_loanamount','perf_totaldue','perf_termdays','longitude_gps','latitude_gps']]"
   ]
  },
  {
   "cell_type": "code",
   "execution_count": null,
   "id": "4ab8d6d7",
   "metadata": {},
   "outputs": [],
   "source": [
    "numColumns.head()"
   ]
  },
  {
   "cell_type": "markdown",
   "id": "13b008b6",
   "metadata": {},
   "source": [
    "Below we add some of the numerical columns generated from the categorical features. These added columns are going to be treated as numerical i.e a person's age, the lifetime of a loan, the time a person took to complete the first repayment day."
   ]
  },
  {
   "cell_type": "code",
   "execution_count": null,
   "id": "6705d273",
   "metadata": {},
   "outputs": [],
   "source": [
    "numColumns = pd.concat([numColumns, customerAge['age'],previousCustomers['loanlifewithdelta'],loanrepayment['firstrepaymentlapsewithdelta'],previousCustomers['good_bad_flag']],axis=1)"
   ]
  },
  {
   "cell_type": "code",
   "execution_count": null,
   "id": "dbb87a2d",
   "metadata": {
    "scrolled": true
   },
   "outputs": [],
   "source": [
    "numColumns.tail()"
   ]
  },
  {
   "cell_type": "code",
   "execution_count": null,
   "id": "f3e8e75d",
   "metadata": {},
   "outputs": [],
   "source": [
    "numColumns.info()"
   ]
  },
  {
   "cell_type": "code",
   "execution_count": null,
   "id": "72fb81db",
   "metadata": {},
   "outputs": [],
   "source": [
    "numColumns.drop(['closeddate'],axis=1,inplace=True)"
   ]
  },
  {
   "cell_type": "markdown",
   "id": "3e35a483",
   "metadata": {},
   "source": [
    "From the first repayment lapse column, we are going to create two new columns:\n",
    "1. The first, LateFirstPay, will show whether someone was late in making the first repayment date and by how many days\n",
    "2. The second, EarlyFirstPay, will show whether someone was early in making the first repayment date and by how many days\n"
   ]
  },
  {
   "cell_type": "code",
   "execution_count": null,
   "id": "0c87fdd2",
   "metadata": {},
   "outputs": [],
   "source": [
    "numColumns.loc[numColumns['firstrepaymentlapsewithdelta'] < 0, 'LateFirstPay'] = numColumns['firstrepaymentlapsewithdelta']\n",
    "numColumns.loc[numColumns['firstrepaymentlapsewithdelta'] < 0, 'EarlyFirstPay'] = 0\n",
    "numColumns.loc[numColumns['firstrepaymentlapsewithdelta'] >= 0, 'LateFirstPay'] = 0\n",
    "numColumns.loc[numColumns['firstrepaymentlapsewithdelta'] >= 0, 'EarlyFirstPay'] = numColumns['firstrepaymentlapsewithdelta']"
   ]
  },
  {
   "cell_type": "code",
   "execution_count": null,
   "id": "dab109e8",
   "metadata": {},
   "outputs": [],
   "source": [
    "numColumns"
   ]
  },
  {
   "cell_type": "code",
   "execution_count": null,
   "id": "1e1ffc9b",
   "metadata": {},
   "outputs": [],
   "source": [
    "numColumns.info()"
   ]
  },
  {
   "cell_type": "code",
   "execution_count": null,
   "id": "8b3256cd",
   "metadata": {},
   "outputs": [],
   "source": [
    "numColumns.drop(['firstrepaymentlapsewithdelta'], axis=1, inplace=True)"
   ]
  },
  {
   "cell_type": "markdown",
   "id": "81466bd9",
   "metadata": {},
   "source": [
    "Let's have a look at if there are outliers in our data using boxplot"
   ]
  },
  {
   "cell_type": "code",
   "execution_count": null,
   "id": "b59d5b08",
   "metadata": {},
   "outputs": [],
   "source": [
    "plt.figure(figsize=(15,10))\n",
    "\n",
    "plt.subplot(2,2,1)\n",
    "fig = numColumns.boxplot(column='loannumber')\n",
    "fig.set_ylabel('Loan number')\n",
    "\n",
    "plt.subplot(2,2,2)\n",
    "fig = numColumns.boxplot(column='loanamount')\n",
    "fig.set_ylabel('Loan amount')\n",
    "\n",
    "plt.subplot(2,2,3)\n",
    "fig = numColumns.boxplot(column='totaldue')\n",
    "fig.set_ylabel('Total due')\n",
    "\n",
    "plt.subplot(2,2,4)\n",
    "fig = numColumns.boxplot(column='age')\n",
    "fig.set_ylabel('Age')"
   ]
  },
  {
   "cell_type": "code",
   "execution_count": null,
   "id": "669a6d58",
   "metadata": {},
   "outputs": [],
   "source": [
    "plt.figure(figsize=(15,10))\n",
    "\n",
    "plt.subplot(1,2,1)\n",
    "fig = numColumns.boxplot(column='latitude_gps')\n",
    "fig.set_ylabel('Latitude')\n",
    "\n",
    "plt.subplot(1,2,2)\n",
    "fig = numColumns.boxplot(column='longitude_gps')\n",
    "fig.set_ylabel('Longitude')\n",
    "\n"
   ]
  },
  {
   "cell_type": "markdown",
   "id": "c583832d",
   "metadata": {},
   "source": [
    "The outliers via longitude and latitude may be atttibuted to people who are outside Nigeria."
   ]
  },
  {
   "cell_type": "markdown",
   "id": "8171396e",
   "metadata": {},
   "source": [
    "More Eda can be done via the latitude and longitude"
   ]
  },
  {
   "cell_type": "markdown",
   "id": "5710a6e3",
   "metadata": {},
   "source": [
    "##### splitting data into target and feature"
   ]
  },
  {
   "cell_type": "code",
   "execution_count": null,
   "id": "1b563d35",
   "metadata": {
    "scrolled": true
   },
   "outputs": [],
   "source": [
    "newdf = pd.concat([numColumns, \n",
    "                  pd.get_dummies(previousCustomers.bank_account_type),\n",
    "                  pd.get_dummies(previousCustomers.bank_name_clients),\n",
    "                  pd.get_dummies(previousCustomers.employment_status_clients),\n",
    "                  pd.get_dummies(previousCustomers.level_of_education_clients)], axis=1)\n",
    "\n",
    "newdf"
   ]
  },
  {
   "cell_type": "code",
   "execution_count": null,
   "id": "c7f14248",
   "metadata": {},
   "outputs": [],
   "source": [
    "newdf.columns"
   ]
  },
  {
   "cell_type": "code",
   "execution_count": null,
   "id": "486b3e16",
   "metadata": {},
   "outputs": [],
   "source": [
    "X = newdf.drop(['good_bad_flag'], axis=1)\n",
    "y = newdf['good_bad_flag']"
   ]
  },
  {
   "cell_type": "code",
   "execution_count": null,
   "id": "7471bc1f",
   "metadata": {},
   "outputs": [],
   "source": [
    "X_train, X_test, y_train, y_test = train_test_split(X, y, test_size=0.2, random_state= 4)"
   ]
  },
  {
   "cell_type": "code",
   "execution_count": null,
   "id": "0d227e71",
   "metadata": {},
   "outputs": [],
   "source": [
    "X_train.shape, X_test.shape"
   ]
  },
  {
   "cell_type": "code",
   "execution_count": null,
   "id": "88725f20",
   "metadata": {},
   "outputs": [],
   "source": [
    "X_train.columns"
   ]
  },
  {
   "cell_type": "markdown",
   "id": "b1faea4a",
   "metadata": {},
   "source": [
    "No missing values"
   ]
  },
  {
   "cell_type": "markdown",
   "id": "96164906",
   "metadata": {},
   "source": [
    "##### Scaling of the data"
   ]
  },
  {
   "cell_type": "code",
   "execution_count": null,
   "id": "4418902d",
   "metadata": {},
   "outputs": [],
   "source": [
    "numColumns.columns"
   ]
  },
  {
   "cell_type": "code",
   "execution_count": null,
   "id": "f2d8eff6",
   "metadata": {},
   "outputs": [],
   "source": [
    "plt.figure(figsize=(15,10))\n",
    "\n",
    "plt.subplot(2,2,1)\n",
    "fig = sns.distplot(numColumns['loannumber'])\n",
    "#fig.set_ylabel('Loan number')\n",
    "\n",
    "plt.subplot(2,2,2)\n",
    "fig = sns.distplot(numColumns['loanamount'])\n",
    "#fig.set_ylabel('Loan amount')\n",
    "\n",
    "plt.subplot(2,2,3)\n",
    "fig = sns.distplot(numColumns['totaldue'])\n",
    "#fig.set_ylabel('Total due')\n",
    "\n",
    "plt.subplot(2,2,4)\n",
    "fig = sns.distplot(numColumns['age'])\n",
    "#fig.set_ylabel('Age')"
   ]
  },
  {
   "cell_type": "code",
   "execution_count": null,
   "id": "9a3df3b7",
   "metadata": {},
   "outputs": [],
   "source": [
    "plt.figure(figsize=(15,10))\n",
    "\n",
    "plt.subplot(2,2,1)\n",
    "fig = sns.distplot(numColumns['longitude_gps'])\n",
    "#fig.set_ylabel('Loan number')\n",
    "\n",
    "plt.subplot(2,2,2)\n",
    "fig = sns.distplot(numColumns['latitude_gps'])\n",
    "#fig.set_ylabel('Loan amount')"
   ]
  },
  {
   "cell_type": "code",
   "execution_count": null,
   "id": "9e82898c",
   "metadata": {},
   "outputs": [],
   "source": [
    "cols = X_train.columns"
   ]
  },
  {
   "cell_type": "code",
   "execution_count": null,
   "id": "5da68414",
   "metadata": {},
   "outputs": [],
   "source": [
    "#Going to use a standard scaler\n",
    "scaler = StandardScaler()\n",
    "\n",
    "X_train = scaler.fit_transform(X_train)\n",
    "X_test = scaler.transform(X_test)"
   ]
  },
  {
   "cell_type": "code",
   "execution_count": null,
   "id": "36aed8ed",
   "metadata": {},
   "outputs": [],
   "source": [
    "##### Dealing with imbalance data"
   ]
  },
  {
   "cell_type": "markdown",
   "id": "94e01c49",
   "metadata": {},
   "source": [
    "## Logistic Regression\n",
    "### with imbalanced data"
   ]
  },
  {
   "cell_type": "code",
   "execution_count": null,
   "id": "679b2ea6",
   "metadata": {},
   "outputs": [],
   "source": [
    "logreg = LogisticRegression(solver='liblinear', random_state=0)\n",
    "\n",
    "logreg.fit(X_train, y_train)"
   ]
  },
  {
   "cell_type": "code",
   "execution_count": null,
   "id": "9d8c48e6",
   "metadata": {},
   "outputs": [],
   "source": [
    "y_pred_test = logreg.predict(X_test)"
   ]
  },
  {
   "cell_type": "code",
   "execution_count": null,
   "id": "2931d473",
   "metadata": {},
   "outputs": [],
   "source": [
    "y_pred_test"
   ]
  },
  {
   "cell_type": "code",
   "execution_count": null,
   "id": "03627095",
   "metadata": {},
   "outputs": [],
   "source": [
    "print('Model accuracy score(test): ', accuracy_score(y_test, y_pred_test))"
   ]
  },
  {
   "cell_type": "code",
   "execution_count": null,
   "id": "d38932dc",
   "metadata": {},
   "outputs": [],
   "source": [
    "y_pred_train = logreg.predict(X_train)\n",
    "\n",
    "print('Model accuracy score(train): ', accuracy_score(y_train, y_pred_train))"
   ]
  },
  {
   "cell_type": "code",
   "execution_count": null,
   "id": "19fb095a",
   "metadata": {},
   "outputs": [],
   "source": [
    "y_test.value_counts()"
   ]
  },
  {
   "cell_type": "code",
   "execution_count": null,
   "id": "95d9d207",
   "metadata": {},
   "outputs": [],
   "source": [
    "null_acurracy = 2275/(len(y_test))"
   ]
  },
  {
   "cell_type": "code",
   "execution_count": null,
   "id": "11914cd9",
   "metadata": {},
   "outputs": [],
   "source": [
    "null_acurracy"
   ]
  },
  {
   "cell_type": "code",
   "execution_count": null,
   "id": "97612bbd",
   "metadata": {},
   "outputs": [],
   "source": [
    "#confusion matrix\n",
    "cm =confusion_matrix(y_test, y_pred_test)"
   ]
  },
  {
   "cell_type": "code",
   "execution_count": null,
   "id": "9d9a716f",
   "metadata": {},
   "outputs": [],
   "source": [
    "cm"
   ]
  },
  {
   "cell_type": "code",
   "execution_count": null,
   "id": "d3d1fae7",
   "metadata": {},
   "outputs": [],
   "source": [
    "disp = ConfusionMatrixDisplay(confusion_matrix=cm, display_labels=logreg.classes_)"
   ]
  },
  {
   "cell_type": "code",
   "execution_count": null,
   "id": "466cb4d2",
   "metadata": {},
   "outputs": [],
   "source": [
    "disp.plot()"
   ]
  },
  {
   "cell_type": "code",
   "execution_count": null,
   "id": "3091dd1b",
   "metadata": {},
   "outputs": [],
   "source": [
    "print(classification_report(y_test, y_pred_test))"
   ]
  },
  {
   "cell_type": "markdown",
   "id": "2b1cfda1",
   "metadata": {},
   "source": [
    "##### Dealing with imbalanced data"
   ]
  },
  {
   "cell_type": "code",
   "execution_count": null,
   "id": "97f8e5be",
   "metadata": {},
   "outputs": [],
   "source": [
    "X = newdf.drop(['good_bad_flag'], axis=1)\n",
    "y = newdf['good_bad_flag']"
   ]
  },
  {
   "cell_type": "code",
   "execution_count": null,
   "id": "bcc12d83",
   "metadata": {},
   "outputs": [],
   "source": [
    "smote_algo = SMOTE(sampling_strategy='all',random_state=0)\n",
    "smote_data_X, smote_data_Y = smote_algo.fit_resample(X,y)\n",
    "smote_data_X = pd.DataFrame(data=smote_data_X, columns=X.columns)\n",
    "smote_data_Y = pd.DataFrame(data=smote_data_Y, columns=['good_bad_flag'])\n"
   ]
  },
  {
   "cell_type": "code",
   "execution_count": null,
   "id": "a693b5f8",
   "metadata": {},
   "outputs": [],
   "source": [
    "smote_data = smote_data_X\n",
    "smote_data['good_bad_flag'] = smote_data_Y['good_bad_flag']"
   ]
  },
  {
   "cell_type": "code",
   "execution_count": null,
   "id": "7bca0a62",
   "metadata": {},
   "outputs": [],
   "source": [
    "smote_data.drop_duplicates(keep=\"first\", inplace=True) #removing duplicate data if any\n",
    "smote_data.info()"
   ]
  },
  {
   "cell_type": "code",
   "execution_count": null,
   "id": "d2355e90",
   "metadata": {},
   "outputs": [],
   "source": [
    "X = smote_data.drop(['good_bad_flag'],axis=1)\n",
    "y = smote_data['good_bad_flag']"
   ]
  },
  {
   "cell_type": "code",
   "execution_count": null,
   "id": "51f8603f",
   "metadata": {},
   "outputs": [],
   "source": [
    "X_train, X_test, y_train, y_test = train_test_split(X, y, test_size=0.2, random_state= 2)"
   ]
  },
  {
   "cell_type": "code",
   "execution_count": null,
   "id": "9d155431",
   "metadata": {},
   "outputs": [],
   "source": [
    "#X_train = scaler.fit_transform(X_train)\n",
    "#X_test = scaler.transform(X_test)"
   ]
  },
  {
   "cell_type": "code",
   "execution_count": null,
   "id": "c7ae0fbd",
   "metadata": {},
   "outputs": [],
   "source": [
    "X_train.shape, X_test.shape"
   ]
  },
  {
   "cell_type": "code",
   "execution_count": null,
   "id": "5c764be3",
   "metadata": {},
   "outputs": [],
   "source": [
    "logreg = LogisticRegression(solver='liblinear', random_state=3)"
   ]
  },
  {
   "cell_type": "code",
   "execution_count": null,
   "id": "dc523640",
   "metadata": {},
   "outputs": [],
   "source": [
    "logreg.fit(X_train, y_train)"
   ]
  },
  {
   "cell_type": "code",
   "execution_count": null,
   "id": "b44876e5",
   "metadata": {},
   "outputs": [],
   "source": [
    "y_pred_test = logreg.predict(X_test)\n",
    "y_pred_test"
   ]
  },
  {
   "cell_type": "code",
   "execution_count": null,
   "id": "0897bfc5",
   "metadata": {},
   "outputs": [],
   "source": [
    "print('Model accuracy score(test): ', accuracy_score(y_test, y_pred_test))"
   ]
  },
  {
   "cell_type": "code",
   "execution_count": null,
   "id": "6f4244c3",
   "metadata": {},
   "outputs": [],
   "source": [
    "y_pred_train = logreg.predict(X_train)\n",
    "\n",
    "print('Model accuracy score(train): ', accuracy_score(y_train, y_pred_train))"
   ]
  },
  {
   "cell_type": "code",
   "execution_count": null,
   "id": "43f75fc1",
   "metadata": {},
   "outputs": [],
   "source": [
    "y_test.value_counts()"
   ]
  },
  {
   "cell_type": "code",
   "execution_count": null,
   "id": "c07d2801",
   "metadata": {},
   "outputs": [],
   "source": [
    "null_accuracy = 1831/(len(y_test))"
   ]
  },
  {
   "cell_type": "code",
   "execution_count": null,
   "id": "8ea067c6",
   "metadata": {},
   "outputs": [],
   "source": [
    "null_accuracy"
   ]
  },
  {
   "cell_type": "code",
   "execution_count": null,
   "id": "00d8d788",
   "metadata": {},
   "outputs": [],
   "source": [
    "cm =confusion_matrix(y_test, y_pred_test)"
   ]
  },
  {
   "cell_type": "code",
   "execution_count": null,
   "id": "5d00d741",
   "metadata": {},
   "outputs": [],
   "source": [
    "disp = ConfusionMatrixDisplay(confusion_matrix=cm, display_labels=logreg.classes_)"
   ]
  },
  {
   "cell_type": "code",
   "execution_count": null,
   "id": "7be5c5ee",
   "metadata": {},
   "outputs": [],
   "source": [
    "disp.plot()"
   ]
  },
  {
   "cell_type": "code",
   "execution_count": null,
   "id": "7379a504",
   "metadata": {},
   "outputs": [],
   "source": [
    "print(classification_report(y_test, y_pred_test))"
   ]
  },
  {
   "cell_type": "code",
   "execution_count": null,
   "id": "3dd80439",
   "metadata": {},
   "outputs": [],
   "source": [
    "y_pred_prob = logreg.predict_proba(X_test)\n",
    "y_pred_prob"
   ]
  },
  {
   "cell_type": "code",
   "execution_count": null,
   "id": "68b6777f",
   "metadata": {},
   "outputs": [],
   "source": [
    "y_pred_prob_df = pd.DataFrame(data=y_pred_prob, columns=['Probability of Good loan (0)',\n",
    "                                                         'Probability of Bad loan (1)'])\n",
    "\n",
    "y_pred_prob_df"
   ]
  },
  {
   "cell_type": "code",
   "execution_count": null,
   "id": "74d9c92c",
   "metadata": {},
   "outputs": [],
   "source": [
    "y_pred1 = logreg.predict_proba(X_test)[:,1]\n",
    "y_pred0 = logreg.predict_proba(X_test)[:,0]"
   ]
  },
  {
   "cell_type": "code",
   "execution_count": null,
   "id": "cb086819",
   "metadata": {},
   "outputs": [],
   "source": [
    "#plot ROC curve\n",
    "\n",
    "from sklearn.metrics import roc_curve\n",
    "\n",
    "fpr, tpr, thresholds = roc_curve(y_test, y_pred1, pos_label='Good')"
   ]
  },
  {
   "cell_type": "code",
   "execution_count": 3,
   "id": "dfbbf9af",
   "metadata": {},
   "outputs": [
    {
     "ename": "NameError",
     "evalue": "name 'fpr' is not defined",
     "output_type": "error",
     "traceback": [
      "\u001b[0;31m---------------------------------------------------------------------------\u001b[0m",
      "\u001b[0;31mNameError\u001b[0m                                 Traceback (most recent call last)",
      "Input \u001b[0;32mIn [3]\u001b[0m, in \u001b[0;36m<cell line: 2>\u001b[0;34m()\u001b[0m\n\u001b[1;32m      1\u001b[0m plt\u001b[38;5;241m.\u001b[39mfigure(figsize \u001b[38;5;241m=\u001b[39m (\u001b[38;5;241m6\u001b[39m,\u001b[38;5;241m4\u001b[39m))\n\u001b[0;32m----> 2\u001b[0m plt\u001b[38;5;241m.\u001b[39mplot(\u001b[43mfpr\u001b[49m, tpr, linewidth\u001b[38;5;241m=\u001b[39m\u001b[38;5;241m2\u001b[39m)\n\u001b[1;32m      3\u001b[0m plt\u001b[38;5;241m.\u001b[39mplot([\u001b[38;5;241m0\u001b[39m,\u001b[38;5;241m1\u001b[39m], [\u001b[38;5;241m0\u001b[39m,\u001b[38;5;241m1\u001b[39m], \u001b[38;5;124m'\u001b[39m\u001b[38;5;124m--\u001b[39m\u001b[38;5;124m'\u001b[39m)\n\u001b[1;32m      4\u001b[0m plt\u001b[38;5;241m.\u001b[39mtitle(\u001b[38;5;124m'\u001b[39m\u001b[38;5;124mROC curve for Good/Bad loan classifier\u001b[39m\u001b[38;5;124m'\u001b[39m)\n",
      "\u001b[0;31mNameError\u001b[0m: name 'fpr' is not defined"
     ]
    },
    {
     "data": {
      "text/plain": [
       "<Figure size 432x288 with 0 Axes>"
      ]
     },
     "metadata": {},
     "output_type": "display_data"
    }
   ],
   "source": [
    "plt.figure(figsize = (6,4))\n",
    "plt.plot(fpr, tpr, linewidth=2)\n",
    "plt.plot([0,1], [0,1], '--')\n",
    "plt.title('ROC curve for Good/Bad loan classifier')\n",
    "plt.xlabel('False positive rate')\n",
    "plt.ylabel('True positve rate')\n",
    "plt.show()"
   ]
  },
  {
   "cell_type": "code",
   "execution_count": null,
   "id": "344cf390",
   "metadata": {},
   "outputs": [],
   "source": [
    "#computing AUC \n",
    "\n",
    "from sklearn.metrics import roc_auc_score\n",
    "\n",
    "ROC_AUC = roc_auc_score(y_test, y_pred1)\n",
    "\n",
    "print(ROC_AUC)"
   ]
  },
  {
   "cell_type": "markdown",
   "id": "1318cb91",
   "metadata": {},
   "source": [
    "### K-nearest neighbours"
   ]
  },
  {
   "cell_type": "code",
   "execution_count": null,
   "id": "ee477f7f",
   "metadata": {},
   "outputs": [],
   "source": [
    "knnr = KNeighborsRegressor(n_neighbors = 10)\n"
   ]
  },
  {
   "cell_type": "code",
   "execution_count": null,
   "id": "f97957ca",
   "metadata": {},
   "outputs": [],
   "source": [
    "knnr.fit(X_train, y_train)"
   ]
  },
  {
   "cell_type": "code",
   "execution_count": null,
   "id": "4bdf9b04",
   "metadata": {},
   "outputs": [],
   "source": []
  }
 ],
 "metadata": {
  "kernelspec": {
   "display_name": "Python 3 (ipykernel)",
   "language": "python",
   "name": "python3"
  },
  "language_info": {
   "codemirror_mode": {
    "name": "ipython",
    "version": 3
   },
   "file_extension": ".py",
   "mimetype": "text/x-python",
   "name": "python",
   "nbconvert_exporter": "python",
   "pygments_lexer": "ipython3",
   "version": "3.9.12"
  }
 },
 "nbformat": 4,
 "nbformat_minor": 5
}
